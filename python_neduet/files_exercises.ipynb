{
 "cells": [
  {
   "cell_type": "markdown",
   "metadata": {},
   "source": [
    " Write a Python program to read an entire text file."
   ]
  },
  {
   "cell_type": "code",
   "execution_count": 13,
   "metadata": {},
   "outputs": [
    {
     "name": "stdout",
     "output_type": "stream",
     "text": [
      "Hello \n",
      "Python\n",
      "This\n",
      "is \n",
      "Areeba\n",
      " "
     ]
    }
   ],
   "source": [
    "f = open('F:/Python_Dev_Self/abc.txt', 'r', encoding= 'UTF-8')\n",
    "data = f.read()\n",
    "print(data)\n",
    "f.close()\n",
    "# print(f)"
   ]
  },
  {
   "cell_type": "markdown",
   "metadata": {},
   "source": [
    "Write a program to read first n lines of the file"
   ]
  },
  {
   "cell_type": "code",
   "execution_count": 27,
   "metadata": {},
   "outputs": [
    {
     "name": "stdout",
     "output_type": "stream",
     "text": [
      "Hello \n",
      "Python\n"
     ]
    }
   ],
   "source": [
    "n = int(input('Enter range: '))\n",
    "with open('F:/Python_Dev_Self/abc.txt', 'r', encoding='UTF-8') as my_file:\n",
    "    for i, line in enumerate(my_file):\n",
    "        if i < n:\n",
    "            print(line, end='')\n",
    "        else:\n",
    "            break\n",
    "\n"
   ]
  },
  {
   "cell_type": "code",
   "execution_count": 28,
   "metadata": {},
   "outputs": [
    {
     "name": "stdout",
     "output_type": "stream",
     "text": [
      "Hello \n",
      "Python\n",
      "This\n",
      "\n"
     ]
    }
   ],
   "source": [
    "n = int(input('Enter the number of lines to print from the end: '))\n",
    "with open('F:/Python_Dev_Self/abc.txt', 'r', encoding='UTF-8') as my_file:\n",
    "    lines = my_file.readlines()  # Reads all lines into a list\n",
    "    print(''.join(lines[:n]))   # Print the last n lines\n"
   ]
  },
  {
   "cell_type": "markdown",
   "metadata": {},
   "source": [
    "Write a Python program to read last n lines of a file."
   ]
  },
  {
   "cell_type": "code",
   "execution_count": null,
   "metadata": {},
   "outputs": [],
   "source": [
    "n = int(input('Enter the number of lines to print from the end: '))\n",
    "with open('F:/Python_Dev_Self/abc.txt', 'r', encoding='UTF-8') as my_file:\n",
    "    lines = my_file.readlines()  # Reads all lines into a list\n",
    "    print(\"\".join(lines[-n:])) # Print the last n lines\n"
   ]
  },
  {
   "cell_type": "markdown",
   "metadata": {},
   "source": [
    " Write a Python program to append text to a file and display the text."
   ]
  },
  {
   "cell_type": "code",
   "execution_count": 8,
   "metadata": {},
   "outputs": [],
   "source": [
    "with open('F:/Python_Dev_Self/abc.txt', 'a', encoding='UTF-8') as my_file:\n",
    "    edit = my_file.write('How are you?\\nI am also fine.\\n')\n"
   ]
  },
  {
   "cell_type": "markdown",
   "metadata": {},
   "source": [
    "Write a Python program to read a file line by line and store it into a list."
   ]
  },
  {
   "cell_type": "code",
   "execution_count": 22,
   "metadata": {},
   "outputs": [
    {
     "name": "stdout",
     "output_type": "stream",
     "text": [
      "['Hello \\n', 'Python\\n', 'This\\n', 'is \\n', 'Areeba\\n', 'How are you?\\n', 'I am also fine.\\n', 'How are you?\\n', 'I am also fine.\\n']\n"
     ]
    }
   ],
   "source": [
    "with open(\"F:/Python_Dev_Self/abc.txt\", 'r') as f:\n",
    "    print(f.readlines())\n",
    "    "
   ]
  },
  {
   "cell_type": "markdown",
   "metadata": {},
   "source": [
    " Write a Python program to read a file line by line store it into a variable."
   ]
  },
  {
   "cell_type": "code",
   "execution_count": null,
   "metadata": {},
   "outputs": [],
   "source": [
    "with open(\"F:/Python_Dev_Self/abc.txt\", 'r') as f:\n",
    "    for i in f.readlines():\n",
    "        line = i\n",
    "        print(line, end = \" \")"
   ]
  },
  {
   "cell_type": "code",
   "execution_count": 23,
   "metadata": {},
   "outputs": [
    {
     "name": "stdout",
     "output_type": "stream",
     "text": [
      "['Hello \\n', 'Python\\n', 'This\\n', 'is \\n', 'Areeba\\n', 'How are you?\\n', 'I am also fine.\\n', 'How are you?\\n', 'I am also fine.\\n']\n"
     ]
    }
   ],
   "source": [
    "with open(\"F:/Python_Dev_Self/abc.txt\", 'r') as f:\n",
    "    reading_line_by_line = f.readlines()\n",
    "    print(reading_line_by_line)"
   ]
  },
  {
   "cell_type": "markdown",
   "metadata": {},
   "source": [
    "Write a Python program to read a file line by line store it into an array."
   ]
  },
  {
   "cell_type": "code",
   "execution_count": null,
   "metadata": {},
   "outputs": [
    {
     "name": "stdout",
     "output_type": "stream",
     "text": [
      "['Hello \\n', 'Python\\n', 'This\\n', 'is \\n', 'Areeba\\n', 'How are you?\\n', 'I am also fine.\\n']\n"
     ]
    },
    {
     "ename": "TypeError",
     "evalue": "list.count() takes exactly one argument (0 given)",
     "output_type": "error",
     "traceback": [
      "\u001b[1;31m---------------------------------------------------------------------------\u001b[0m",
      "\u001b[1;31mTypeError\u001b[0m                                 Traceback (most recent call last)",
      "Cell \u001b[1;32mIn[12], line 6\u001b[0m\n\u001b[0;32m      4\u001b[0m         array_lines\u001b[38;5;241m.\u001b[39mappend(lines)\n\u001b[0;32m      5\u001b[0m     \u001b[38;5;28mprint\u001b[39m(array_lines)\n\u001b[1;32m----> 6\u001b[0m \u001b[38;5;28mprint\u001b[39m(\u001b[43marray_lines\u001b[49m\u001b[38;5;241;43m.\u001b[39;49m\u001b[43mcount\u001b[49m\u001b[43m(\u001b[49m\u001b[43m)\u001b[49m)\n",
      "\u001b[1;31mTypeError\u001b[0m: list.count() takes exactly one argument (0 given)"
     ]
    }
   ],
   "source": [
    "with open(\"F:/Python_Dev_Self/abc.txt\", 'r') as f:\n",
    "    array_lines = []\n",
    "    for lines in f.readlines():\n",
    "        array_lines.append(lines)\n",
    "    print(array_lines)\n",
    "print(type(array_lines))\n"
   ]
  },
  {
   "cell_type": "markdown",
   "metadata": {},
   "source": [
    "Write a python program to find the longest lines."
   ]
  },
  {
   "cell_type": "code",
   "execution_count": 11,
   "metadata": {},
   "outputs": [
    {
     "name": "stdout",
     "output_type": "stream",
     "text": [
      "Python\n"
     ]
    }
   ],
   "source": [
    "long_word = \"\"\n",
    "for i in array_lines:\n",
    "    j = i.split()\n",
    "    # print(j)\n",
    "    for words in j:\n",
    "        if len(words) > len(long_word):\n",
    "            long_word = words\n",
    "print(long_word)"
   ]
  },
  {
   "cell_type": "markdown",
   "metadata": {},
   "source": [
    "9. Write a Python program to count the number of lines in a text file."
   ]
  },
  {
   "cell_type": "code",
   "execution_count": 17,
   "metadata": {},
   "outputs": [
    {
     "name": "stdout",
     "output_type": "stream",
     "text": [
      "6\n"
     ]
    }
   ],
   "source": [
    "with open(\"F:/Python_Dev_Self/abc.txt\", 'r') as f:\n",
    "    for count, lines in enumerate(f, start=1):\n",
    "        pass\n",
    "    print(count)"
   ]
  },
  {
   "cell_type": "markdown",
   "metadata": {},
   "source": [
    "Write a Python program to write a list to a file."
   ]
  },
  {
   "cell_type": "code",
   "execution_count": null,
   "metadata": {},
   "outputs": [
    {
     "name": "stdout",
     "output_type": "stream",
     "text": [
      "Red\n",
      "Green\n",
      "White\n",
      "Black\n",
      "Pink\n",
      "Yellow\n",
      "\n"
     ]
    }
   ],
   "source": [
    "color = ['Red', 'Green', 'White', 'Black', 'Pink', 'Yellow']\n",
    "with open('abc.txt', \"w\") as myfile:\n",
    "        for c in color:\n",
    "                # myfile.write(c + '\\n')\n",
    "\n",
    "content = open('new.txt')\n",
    "print(content.read())"
   ]
  },
  {
   "cell_type": "markdown",
   "metadata": {},
   "source": [
    "Write a python program to asses if a file is closed or not"
   ]
  },
  {
   "cell_type": "code",
   "execution_count": null,
   "metadata": {},
   "outputs": [],
   "source": [
    "f = open('abc.txt','r')\n",
    "print(f.closed)\n",
    "f.close()\n",
    "print(f.closed)"
   ]
  },
  {
   "cell_type": "code",
   "execution_count": null,
   "metadata": {},
   "outputs": [],
   "source": []
  }
 ],
 "metadata": {
  "kernelspec": {
   "display_name": "Python 3",
   "language": "python",
   "name": "python3"
  },
  "language_info": {
   "codemirror_mode": {
    "name": "ipython",
    "version": 3
   },
   "file_extension": ".py",
   "mimetype": "text/x-python",
   "name": "python",
   "nbconvert_exporter": "python",
   "pygments_lexer": "ipython3",
   "version": "3.12.5"
  }
 },
 "nbformat": 4,
 "nbformat_minor": 2
}
