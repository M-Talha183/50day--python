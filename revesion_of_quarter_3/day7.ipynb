{
 "cells": [
  {
   "cell_type": "markdown",
   "id": "a3043b07",
   "metadata": {},
   "source": [
    "#### Exercise 23: Create a simple countdown timer using a while loop."
   ]
  },
  {
   "cell_type": "markdown",
   "id": "968ce7e9",
   "metadata": {},
   "source": []
  },
  {
   "cell_type": "markdown",
   "id": "7baaf220",
   "metadata": {},
   "source": [
    "### Exercise 21: Check if a user-entered string contains any digits using a for loop"
   ]
  },
  {
   "cell_type": "markdown",
   "id": "8fa731c5",
   "metadata": {},
   "source": []
  },
  {
   "cell_type": "markdown",
   "id": "10920fd8",
   "metadata": {},
   "source": [
    "Exercise 20: Print Reverse Number Pattern\n"
   ]
  }
 ],
 "metadata": {
  "language_info": {
   "name": "python"
  }
 },
 "nbformat": 4,
 "nbformat_minor": 5
}
