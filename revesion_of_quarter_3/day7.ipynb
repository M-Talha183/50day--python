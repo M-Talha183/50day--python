{
 "cells": [
  {
   "cell_type": "markdown",
   "id": "a3043b07",
   "metadata": {},
   "source": [
    "#### Exercise 23: Create a simple countdown timer using a while loop."
   ]
  },
  {
   "cell_type": "markdown",
   "id": "968ce7e9",
   "metadata": {},
   "source": []
  }
 ],
 "metadata": {
  "language_info": {
   "name": "python"
  }
 },
 "nbformat": 4,
 "nbformat_minor": 5
}
