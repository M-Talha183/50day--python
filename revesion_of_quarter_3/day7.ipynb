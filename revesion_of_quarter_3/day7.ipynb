{
 "cells": [
  {
   "cell_type": "markdown",
   "id": "a3043b07",
   "metadata": {},
   "source": [
    "#### Exercise 23: Create a simple countdown timer using a while loop."
   ]
  },
  {
   "cell_type": "code",
   "execution_count": null,
   "id": "1c2c686f",
   "metadata": {},
   "outputs": [
    {
     "name": "stdout",
     "output_type": "stream",
     "text": [
      "Time Remaining :  5\n",
      "Time Remaining :  4\n",
      "Time Remaining :  3\n",
      "Time Remaining :  2\n",
      "Time Remaining :  1\n",
      "Time's up\n"
     ]
    }
   ],
   "source": [
    "import time as tm \n",
    "count_down = int(input(\"Enter the count down \"))\n",
    "\n",
    "while count_down > 0:\n",
    "    print(\"Time Remaining : \", count_down)\n",
    "    tm.sleep(1.0)\n",
    "    if count_down == 1:\n",
    "        print(\"Time's up\")\n",
    "    count_down -= 1"
   ]
  },
  {
   "cell_type": "markdown",
   "id": "68b8e949",
   "metadata": {},
   "source": [
    "### Exercise 22: Capitalize the first letter of each word in a string"
   ]
  },
  {
   "cell_type": "code",
   "execution_count": 9,
   "id": "a4a50170",
   "metadata": {},
   "outputs": [
    {
     "name": "stdout",
     "output_type": "stream",
     "text": [
      "Pynative.Com Is For Python Lovers\n"
     ]
    }
   ],
   "source": [
    "str1 = \"pynative.com is for python lovers\"\n",
    "lst = str1.split()\n",
    "my_res = []\n",
    "for i in lst :\n",
    "    my_res.append(i.title())\n",
    "print(\" \".join(my_res))"
   ]
  },
  {
   "cell_type": "markdown",
   "id": "7baaf220",
   "metadata": {},
   "source": [
    "### Exercise 21: Check if a user-entered string contains any digits using a for loop"
   ]
  },
  {
   "cell_type": "code",
   "execution_count": 13,
   "id": "d057f623",
   "metadata": {},
   "outputs": [
    {
     "name": "stdout",
     "output_type": "stream",
     "text": [
      "The string contains at least 3 digit.\n"
     ]
    }
   ],
   "source": [
    "user_num = input(\"Enter the word \")\n",
    "\n",
    "count = 0\n",
    "for i in user_num :\n",
    "    if i.isdigit():\n",
    "        count +=1\n",
    "print(f\"The string contains at least {count} digit.\")"
   ]
  },
  {
   "cell_type": "markdown",
   "id": "7aea1766",
   "metadata": {},
   "source": [
    "### Exercise 20: Print Reverse Number Pattern\n"
   ]
  },
  {
   "cell_type": "code",
   "execution_count": 16,
   "id": "5e2f196b",
   "metadata": {},
   "outputs": [
    {
     "name": "stdout",
     "output_type": "stream",
     "text": [
      "1 1 1 1 1 \n",
      "2 2 2 2 \n",
      "3 3 3 \n",
      "4 4 \n",
      "5 \n"
     ]
    }
   ],
   "source": [
    "for i in range(1,6):\n",
    "    for j in range(6-i,0,-1):\n",
    "        print(i, end=\" \")\n",
    "    print()"
   ]
  },
  {
   "cell_type": "markdown",
   "id": "1c95ebfc",
   "metadata": {},
   "source": [
    "### Exercise 18: Check if a given year is a leap year\n"
   ]
  },
  {
   "cell_type": "code",
   "execution_count": 24,
   "id": "0021f2d4",
   "metadata": {},
   "outputs": [
    {
     "name": "stdout",
     "output_type": "stream",
     "text": [
      "leap year  2020\n"
     ]
    }
   ],
   "source": [
    "year = int(input(\"Enter the number \"))\n",
    "\n",
    "if (year % 4 == 0 and year % 100 != 0) or (year % 400 ==0):\n",
    "    print(\"leap year \", year)\n",
    "else:\n",
    "    print(\"Not leap year \")\n",
    "        "
   ]
  },
  {
   "cell_type": "markdown",
   "id": "d8b322cb",
   "metadata": {},
   "source": [
    "### Exercise 17: Generate Fibonacci series up to 15 terms\n"
   ]
  },
  {
   "cell_type": "code",
   "execution_count": 27,
   "id": "1d769b0d",
   "metadata": {},
   "outputs": [
    {
     "name": "stdout",
     "output_type": "stream",
     "text": [
      "1 1 2 3 5 8 13 21 34 55 89 144 233 377 610 987 "
     ]
    }
   ],
   "source": [
    "user_num = int(input(\"Enter the count \"))\n",
    "\n",
    "a = 0\n",
    "b = 1\n",
    "count = 0\n",
    "while count <= user_num :\n",
    "    c = a + b \n",
    "    a , b = b , c\n",
    "    print(a, end=\" \")\n",
    "    count += 1"
   ]
  },
  {
   "cell_type": "markdown",
   "id": "f7fab5bf",
   "metadata": {},
   "source": [
    "### Exercise 16: Check Palindrome Number\n"
   ]
  },
  {
   "cell_type": "code",
   "execution_count": null,
   "id": "32c95bdd",
   "metadata": {},
   "outputs": [],
   "source": []
  },
  {
   "cell_type": "code",
   "execution_count": null,
   "id": "2f1dea96",
   "metadata": {},
   "outputs": [],
   "source": []
  },
  {
   "cell_type": "code",
   "execution_count": null,
   "id": "7cb00f1d",
   "metadata": {},
   "outputs": [],
   "source": []
  }
 ],
 "metadata": {
  "kernelspec": {
   "display_name": "Python 3",
   "language": "python",
   "name": "python3"
  },
  "language_info": {
   "codemirror_mode": {
    "name": "ipython",
    "version": 3
   },
   "file_extension": ".py",
   "mimetype": "text/x-python",
   "name": "python",
   "nbconvert_exporter": "python",
   "pygments_lexer": "ipython3",
   "version": "3.13.1"
  }
 },
 "nbformat": 4,
 "nbformat_minor": 5
}
