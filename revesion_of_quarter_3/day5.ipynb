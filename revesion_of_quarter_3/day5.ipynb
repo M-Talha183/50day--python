{
 "cells": [
  {
   "cell_type": "markdown",
   "id": "0f913b1a",
   "metadata": {},
   "source": [
    "### Exercise 22: Find largest and smallest digit in a number\n"
   ]
  },
  {
   "cell_type": "code",
   "execution_count": 19,
   "id": "479dc17a",
   "metadata": {},
   "outputs": [
    {
     "name": "stdout",
     "output_type": "stream",
     "text": [
      "0\n",
      "0\n"
     ]
    }
   ],
   "source": [
    "num1 = 0\n",
    "lst = str(abs(num1))\n",
    "small_number = \"0\"\n",
    "lar_num = \"0\"\n",
    "my_lst = list(lst)\n",
    "for i in lst:\n",
    "    if i < small_number :\n",
    "        small_number = i\n",
    "    if i > lar_num :\n",
    "        lar_num = i\n",
    "    \n",
    "        \n",
    "print(small_number)\n",
    "print(lar_num)\n",
    "        "
   ]
  },
  {
   "cell_type": "code",
   "execution_count": null,
   "id": "ba7936b4",
   "metadata": {},
   "outputs": [
    {
     "data": {
      "text/plain": [
       "True"
      ]
     },
     "execution_count": 36,
     "metadata": {},
     "output_type": "execute_result"
    }
   ],
   "source": [
    "nested_list = [1,8,45, [2, 3], [4, 5, 6], 7, [8, 9]]\n",
    "\n",
    "for i in nested_list:\n",
    "    type_of =type(i)\n",
    "    if type_of == int:\n",
    "        print(i, end= \" \")\n",
    "    if type_of == list:\n",
    "        for j in i:\n",
    "            print(j, end=\" \")\n",
    "num = 20\n",
    "isinstance(num,int)\n",
    "\n"
   ]
  },
  {
   "cell_type": "markdown",
   "id": "792e90aa",
   "metadata": {},
   "source": [
    "### Exercise 20: Print the alternate numbers pattern\n"
   ]
  },
  {
   "cell_type": "code",
   "execution_count": 44,
   "id": "7c1c7652",
   "metadata": {},
   "outputs": [
    {
     "name": "stdout",
     "output_type": "stream",
     "text": [
      "1 \n",
      "3 2 \n",
      "4 5 6 \n",
      "10 9 8 7 \n",
      "11 12 13 14 15 \n"
     ]
    }
   ],
   "source": [
    "def print_alternate_pattern(rows):\n",
    "    num = 1\n",
    "    for i in range(1, rows + 1):\n",
    "        if i % 2 != 0: # Odd row: increasing order\n",
    "            for x in range(num, num + i):\n",
    "              print(x, end=' ')\n",
    "            print() # to diaply next row of number on new line\n",
    "        else: # Even row: decreasing order\n",
    "            for y in range(num + i - 1, num - 1, -1):\n",
    "              print(y, end=' ')\n",
    "            print() # # to diaply next row of number on new line\n",
    "        num += i\n",
    "\n",
    "# Call the function to print the pattern with a specified number of rows\n",
    "print_alternate_pattern(5)\n"
   ]
  },
  {
   "cell_type": "code",
   "execution_count": null,
   "id": "ca988310",
   "metadata": {},
   "outputs": [],
   "source": []
  }
 ],
 "metadata": {
  "kernelspec": {
   "display_name": "Python 3",
   "language": "python",
   "name": "python3"
  },
  "language_info": {
   "codemirror_mode": {
    "name": "ipython",
    "version": 3
   },
   "file_extension": ".py",
   "mimetype": "text/x-python",
   "name": "python",
   "nbconvert_exporter": "python",
   "pygments_lexer": "ipython3",
   "version": "3.13.1"
  }
 },
 "nbformat": 4,
 "nbformat_minor": 5
}
