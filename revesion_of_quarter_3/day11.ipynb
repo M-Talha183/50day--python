{
 "cells": [
  {
   "cell_type": "markdown",
   "id": "3433e924",
   "metadata": {},
   "source": [
    "### 📝 Practice Questions – Inheritance in Python\n"
   ]
  },
  {
   "cell_type": "markdown",
   "id": "49b7e78e",
   "metadata": {},
   "source": [
    "#### Q1. Single Inheritance\n",
    "#### Create a class Person with a method introduce() that prints \"I am a person.\"\n",
    "#### Now create a child class Teacher that inherits from Person and adds a method teach() that prints \"I teach students.\"\n",
    "#### ➡️ Task: Create an object of Teacher and call both methods"
   ]
  },
  {
   "cell_type": "code",
   "execution_count": 1,
   "id": "7e42e2af",
   "metadata": {},
   "outputs": [
    {
     "name": "stdout",
     "output_type": "stream",
     "text": [
      "I am person \n",
      "I teach students \n"
     ]
    }
   ],
   "source": [
    "class Person :\n",
    "    def introduce(self):\n",
    "        print(\"I am person \")\n",
    "        \n",
    "class Teacher(Person):\n",
    "    def teach(self):\n",
    "        print(\"I teach students \")\n",
    "        \n",
    "s = Teacher()\n",
    "s.introduce()\n",
    "s.teach()"
   ]
  },
  {
   "cell_type": "code",
   "execution_count": null,
   "id": "60858117",
   "metadata": {},
   "outputs": [],
   "source": []
  }
 ],
 "metadata": {
  "kernelspec": {
   "display_name": "Python 3",
   "language": "python",
   "name": "python3"
  },
  "language_info": {
   "codemirror_mode": {
    "name": "ipython",
    "version": 3
   },
   "file_extension": ".py",
   "mimetype": "text/x-python",
   "name": "python",
   "nbconvert_exporter": "python",
   "pygments_lexer": "ipython3",
   "version": "3.13.1"
  }
 },
 "nbformat": 4,
 "nbformat_minor": 5
}
