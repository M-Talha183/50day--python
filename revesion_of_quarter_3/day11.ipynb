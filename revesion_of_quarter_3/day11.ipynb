{
 "cells": [
  {
   "cell_type": "markdown",
   "id": "3433e924",
   "metadata": {},
   "source": [
    "### 📝 Practice Questions – Inheritance in Python\n"
   ]
  },
  {
   "cell_type": "markdown",
   "id": "49b7e78e",
   "metadata": {},
   "source": [
    "#### Q1. Single Inheritance\n",
    "#### Create a class Person with a method introduce() that prints \"I am a person.\"\n",
    "#### Now create a child class Teacher that inherits from Person and adds a method teach() that prints \"I teach students.\"\n",
    "#### ➡️ Task: Create an object of Teacher and call both methods"
   ]
  },
  {
   "cell_type": "code",
   "execution_count": 1,
   "id": "7e42e2af",
   "metadata": {},
   "outputs": [
    {
     "name": "stdout",
     "output_type": "stream",
     "text": [
      "I am person \n",
      "I teach students \n"
     ]
    }
   ],
   "source": [
    "class Person :\n",
    "    def introduce(self):\n",
    "        print(\"I am person \")\n",
    "        \n",
    "class Teacher(Person):\n",
    "    def teach(self):\n",
    "        print(\"I teach students \")\n",
    "        \n",
    "s = Teacher()\n",
    "s.introduce()\n",
    "s.teach()"
   ]
  },
  {
   "cell_type": "markdown",
   "id": "4b72009b",
   "metadata": {},
   "source": [
    ".\n",
    "\n",
    "#### 🔹 Q2. Use of super()\n",
    "#### Create a parent class Device with an __init__ method that takes brand.\n",
    "#### Then create a child class Mobile that also takes a model and calls the parent’s constructor using super().\n",
    "\n",
    "#### ➡️ Task: Print both brand and model using a display() method.\n",
    "\n"
   ]
  },
  {
   "cell_type": "code",
   "execution_count": 4,
   "id": "60858117",
   "metadata": {},
   "outputs": [
    {
     "name": "stdout",
     "output_type": "stream",
     "text": [
      "sumsung \n",
      " A-32\n"
     ]
    }
   ],
   "source": [
    "class Device :\n",
    "    def __init__(self, brand):\n",
    "        self.brand = brand \n",
    "        \n",
    "class Mobile(Device):\n",
    "    def __init__(self,brand, model):\n",
    "        self.model = model\n",
    "        super().__init__(brand)\n",
    "    def desplay(self):\n",
    "        print(self.brand,\"\\n\",self.model)\n",
    "        \n",
    "s= Mobile(\"sumsung\",\"A-32\")\n",
    "s.desplay()\n",
    "\n"
   ]
  },
  {
   "cell_type": "markdown",
   "id": "b2fe005d",
   "metadata": {},
   "source": [
    "#### 🔹 Q3. Multilevel Inheritance\n",
    "#### Create a class Animal → Mammal → Dog (each one inheriting from the previous).\n",
    "#### Each class should have its own method like is_animal(), is_mammal(), bark() respectively.\n",
    "\n",
    "#### ➡️ Task: Create an object of Dog and call all three methods.\n",
    "\n"
   ]
  },
  {
   "cell_type": "code",
   "execution_count": 5,
   "id": "46c6b221",
   "metadata": {},
   "outputs": [
    {
     "name": "stdout",
     "output_type": "stream",
     "text": [
      "IS Animal\n",
      "also bark\n",
      "Also Mamamal\n"
     ]
    }
   ],
   "source": [
    "class Animal :\n",
    "    def __init__(self):\n",
    "        pass\n",
    "    def is_animal (self):\n",
    "        print(\"IS Animal\")\n",
    "        \n",
    "class Mamal(Animal):\n",
    "    def is_mamal (self):\n",
    "        print(\"Also Mamamal\")\n",
    "\n",
    "class Dog(Mamal):\n",
    "    def is_bark(self):\n",
    "        print(\"also bark\")\n",
    "\n",
    "s= Dog()\n",
    "s.is_animal()\n",
    "s.is_bark()\n",
    "s.is_mamal()"
   ]
  },
  {
   "cell_type": "code",
   "execution_count": null,
   "id": "2f1c6141",
   "metadata": {},
   "outputs": [],
   "source": []
  }
 ],
 "metadata": {
  "kernelspec": {
   "display_name": "Python 3",
   "language": "python",
   "name": "python3"
  },
  "language_info": {
   "codemirror_mode": {
    "name": "ipython",
    "version": 3
   },
   "file_extension": ".py",
   "mimetype": "text/x-python",
   "name": "python",
   "nbconvert_exporter": "python",
   "pygments_lexer": "ipython3",
   "version": "3.13.1"
  }
 },
 "nbformat": 4,
 "nbformat_minor": 5
}
