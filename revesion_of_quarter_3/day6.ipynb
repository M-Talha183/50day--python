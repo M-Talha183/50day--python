{
 "cells": [
  {
   "cell_type": "markdown",
   "id": "ecc9c688",
   "metadata": {},
   "source": [
    "## Exercise 19: Print Full Multiplication Table\n",
    "### The multiplication table from 1 to 10 is a table that shows the products of numbers from 1 to 10.\n",
    "\n",
    "### Write a code to generates a complete multiplication table for numbers 1 through 10.\n"
   ]
  },
  {
   "cell_type": "code",
   "execution_count": 4,
   "id": "e7364093",
   "metadata": {},
   "outputs": [
    {
     "name": "stdout",
     "output_type": "stream",
     "text": [
      "Multiplication Table of  1\n",
      "1 2 3 4 5 6 7 8 9 10 \n",
      "Multiplication Table of  2\n",
      "2 4 6 8 10 12 14 16 18 20 \n",
      "Multiplication Table of  3\n",
      "3 6 9 12 15 18 21 24 27 30 \n",
      "Multiplication Table of  4\n",
      "4 8 12 16 20 24 28 32 36 40 \n",
      "Multiplication Table of  5\n",
      "5 10 15 20 25 30 35 40 45 50 \n",
      "Multiplication Table of  6\n",
      "6 12 18 24 30 36 42 48 54 60 \n",
      "Multiplication Table of  7\n",
      "7 14 21 28 35 42 49 56 63 70 \n",
      "Multiplication Table of  8\n",
      "8 16 24 32 40 48 56 64 72 80 \n",
      "Multiplication Table of  9\n",
      "9 18 27 36 45 54 63 72 81 90 \n",
      "Multiplication Table of  10\n",
      "10 20 30 40 50 60 70 80 90 100 \n"
     ]
    }
   ],
   "source": [
    "for i in range(1,11):\n",
    "    print(\"Multiplication Table of \", i)\n",
    "    for j in range(1,11):\n",
    "        print(i*j ,end=\" \")\n",
    "    print()\n",
    "    "
   ]
  },
  {
   "cell_type": "markdown",
   "id": "6396371d",
   "metadata": {},
   "source": [
    "# Exercise 18: Print the following pattern\n",
    "#### Write a program to print the following start pattern using the for loop\n",
    "\n"
   ]
  },
  {
   "cell_type": "code",
   "execution_count": 10,
   "id": "33e57009",
   "metadata": {},
   "outputs": [
    {
     "name": "stdout",
     "output_type": "stream",
     "text": [
      "\n",
      "* \n",
      "* * \n",
      "* * * \n",
      "* * * * \n",
      "* * * * * \n",
      "* * * \n",
      "* * \n",
      "* \n",
      "\n"
     ]
    }
   ],
   "source": [
    "for i in range(0,6,1):\n",
    "    for j in range(1,i+1):\n",
    "        print(\"*\",end=\" \")\n",
    "    print()\n",
    "    \n",
    "for i in range(1,5):\n",
    "    for j in range(5-i,1,-1):\n",
    "        print(\"*\", end=\" \")\n",
    "    print()\n",
    "    \n",
    "    "
   ]
  },
  {
   "cell_type": "markdown",
   "id": "4f479e26",
   "metadata": {},
   "source": [
    "## Exercise 17: Find the sum of a series of a number up to n terms\n",
    "#### Write a program to calculate the sum of this series up to n terms. For example, if the number is 2 and the number of terms \n",
    "#### is 5, then the series will be 2+22+222+2222+22222=2469"
   ]
  },
  {
   "cell_type": "code",
   "execution_count": 13,
   "id": "6546477e",
   "metadata": {},
   "outputs": [
    {
     "name": "stdout",
     "output_type": "stream",
     "text": [
      "2+22+222+2222+22222+\n",
      "Sum of above series is: 24690\n"
     ]
    }
   ],
   "source": [
    "terms = 5\n",
    "# first number of sequence\n",
    "num = 2\n",
    "sum_seq = 0\n",
    "\n",
    "# run loop n times\n",
    "for i in range(0, terms):\n",
    "    print(num, end=\"+\")\n",
    "    sum_seq += num\n",
    "    # calculate the next term\n",
    "    num = num * 10 + 2\n",
    "print(\"\\nSum of above series is:\", sum_seq)\n"
   ]
  },
  {
   "cell_type": "markdown",
   "id": "4d36cfff",
   "metadata": {},
   "source": [
    "#### Exercise 16: Calculate the cube of all numbers from 1 to a given number\n",
    "#### Write a Python program to print the cube of all numbers from 1 to a given number\n",
    "\n",
    "#### Given:\n",
    "\n",
    "#### input_number = 6\n",
    "\n"
   ]
  },
  {
   "cell_type": "code",
   "execution_count": 17,
   "id": "940cc4db",
   "metadata": {},
   "outputs": [
    {
     "name": "stdout",
     "output_type": "stream",
     "text": [
      "cube of the 1 is 1\n",
      "cube of the 2 is 8\n",
      "cube of the 3 is 27\n",
      "cube of the 4 is 64\n",
      "cube of the 5 is 125\n",
      "cube of the 6 is 216\n"
     ]
    }
   ],
   "source": [
    "num = int (input(\"Enter the number : \"))\n",
    "for i in range(1,num+1):\n",
    "    print(f\"cube of the {i} is {i**3}\")\n",
    "\n"
   ]
  },
  {
   "cell_type": "markdown",
   "id": "d01d22de",
   "metadata": {},
   "source": [
    "#### Exercise 15: Print elements from a given list present at odd index positions\n"
   ]
  },
  {
   "cell_type": "code",
   "execution_count": 20,
   "id": "6268108c",
   "metadata": {},
   "outputs": [
    {
     "name": "stdout",
     "output_type": "stream",
     "text": [
      "20 40 60 80 100 "
     ]
    }
   ],
   "source": [
    "my_list = [10, 20, 30, 40, 50, 60, 70, 80, 90, 100]\n",
    "\n",
    "for i in range(0,len(my_list)):\n",
    "    if i%2 !=0:\n",
    "        print(my_list[i] , end=\" \")"
   ]
  },
  {
   "cell_type": "markdown",
   "id": "f170c0ca",
   "metadata": {},
   "source": [
    "#### Exercise 14: Reverse a integer number\n",
    "#### Given:\n",
    "#### 76542\n",
    "#### Expected output:\n",
    "#### 24567\n",
    "\n"
   ]
  },
  {
   "cell_type": "code",
   "execution_count": null,
   "id": "bc36f39f",
   "metadata": {},
   "outputs": [
    {
     "name": "stdout",
     "output_type": "stream",
     "text": [
      "76542\n",
      "24567"
     ]
    }
   ],
   "source": [
    "num = int(\"enter the number \")\n",
    "print(num)\n",
    "for i in range(len(num)-1,-1,-1):\n",
    "    print(num[i],end=\"\")"
   ]
  },
  {
   "cell_type": "code",
   "execution_count": null,
   "id": "c1732290",
   "metadata": {},
   "outputs": [],
   "source": []
  }
 ],
 "metadata": {
  "kernelspec": {
   "display_name": "Python 3",
   "language": "python",
   "name": "python3"
  },
  "language_info": {
   "codemirror_mode": {
    "name": "ipython",
    "version": 3
   },
   "file_extension": ".py",
   "mimetype": "text/x-python",
   "name": "python",
   "nbconvert_exporter": "python",
   "pygments_lexer": "ipython3",
   "version": "3.13.1"
  }
 },
 "nbformat": 4,
 "nbformat_minor": 5
}
