# .

# 🔹 Basic & Practical OOP Questions in Python (English)
# 1. Create a Class and Object
# Question:
# Create a class Student that stores a student's name and age. Then create an object of this class and print the student's details.

class Student :
    def __init__(self, name:str,age:int):
        
        self.name = name 
        self.age = age 
        print(f"name {self.name} age {self.age}")
        
S = Student("Talha",20)