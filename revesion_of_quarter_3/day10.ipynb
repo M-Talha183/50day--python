{
 "cells": [
  {
   "cell_type": "markdown",
   "id": "6c357ac8",
   "metadata": {},
   "source": [
    "## 🔹 Q1. Class and Object Creation\n",
    "### Create a class Book with two attributes: title and author.\n",
    "### Write an __init__() method to initialize them and a describe() method that prints the title and author.\n",
    "\n"
   ]
  },
  {
   "cell_type": "code",
   "execution_count": null,
   "id": "6141beb4",
   "metadata": {},
   "outputs": [
    {
     "name": "stdout",
     "output_type": "stream",
     "text": [
      "The Title is Python Basic\n",
      " Auther is Talha\n"
     ]
    }
   ],
   "source": [
    "class Book :\n",
    "    def __init__(self, title , author):\n",
    "        self.title  = title\n",
    "        self.author = author\n",
    "    def describe(self):\n",
    "        print(f\"The Title is {self.title}\\n Author is {self.author}\")\n",
    "        \n",
    "s = Book(\"Python Basic\", \"Talha\")\n",
    "s.describe()        "
   ]
  },
  {
   "cell_type": "markdown",
   "id": "599ad48e",
   "metadata": {},
   "source": [
    "#### 🔹 Q2. Access Modifier Practice\n",
    "#### Create a class Employee with:\n",
    "#### A public attribute name\n",
    "#### A protected attribute _department\n",
    "#### A private attribute __salary\n",
    "#### Instantiate the object and try printing all three. What works and what gives an error?\n",
    "\n"
   ]
  },
  {
   "cell_type": "code",
   "execution_count": null,
   "id": "8004e379",
   "metadata": {},
   "outputs": [
    {
     "name": "stdout",
     "output_type": "stream",
     "text": [
      "Talha\n",
      "IT\n",
      "20000\n"
     ]
    }
   ],
   "source": [
    "class Employee :\n",
    "    def __init__(self , name , department , salary):\n",
    "        self.name = name \n",
    "        self._department = department\n",
    "        self.__salary = salary  \n",
    "        \n",
    "\n",
    "        \n",
    "s = employee(\"Talha\",\"IT\",\"20000\")\n",
    "print(s.name)        \n",
    "print(s._department)        \n",
    "print(s._Employee__salary)        \n",
    "        "
   ]
  },
  {
   "cell_type": "markdown",
   "id": "ff1fe707",
   "metadata": {},
   "source": [
    "### 🔹 Q3. Getter & Setter (Manual)\n",
    "### Create a class Student with a private attribute __grade.\n",
    "### Write two methods:\n",
    "\n",
    "### get_grade() → returns the grade\n",
    "\n",
    "### set_grade() → sets the grade only if it's 'A', 'B', or 'C'\n",
    "\n",
    "### Test it by setting and printing different values.\n",
    "\n"
   ]
  },
  {
   "cell_type": "code",
   "execution_count": 4,
   "id": "dd80b394",
   "metadata": {},
   "outputs": [
    {
     "data": {
      "text/plain": [
       "'C'"
      ]
     },
     "execution_count": 4,
     "metadata": {},
     "output_type": "execute_result"
    }
   ],
   "source": [
    "class Student :\n",
    "    def __init__(self, name ):\n",
    "        self.name = name \n",
    "        self.__grade = \"A\"\n",
    "    def get_grade(self):\n",
    "        return self.__grade\n",
    "    def set_grade(self,marks):\n",
    "        if marks > 90:\n",
    "            self.__grade = \"A\"\n",
    "        elif marks >=80:\n",
    "            self.__grade = \"B\"\n",
    "        else:\n",
    "            self.__grade = \"C\"\n",
    "            \n",
    "s = Student(\"Talha\")\n",
    "s.set_grade(50)\n",
    "s.get_grade()"
   ]
  },
  {
   "cell_type": "markdown",
   "id": "0e372c8d",
   "metadata": {},
   "source": [
    "### 🔹 Q4. Output Prediction\n"
   ]
  },
  {
   "cell_type": "code",
   "execution_count": 6,
   "id": "32cc49e5",
   "metadata": {},
   "outputs": [
    {
     "name": "stdout",
     "output_type": "stream",
     "text": [
      "25\n",
      "25\n"
     ]
    }
   ],
   "source": [
    "class Person:\n",
    "    def __init__(self):\n",
    "        self.__age = 25\n",
    "\n",
    "    def get_age(self):\n",
    "        return self.__age\n",
    "\n",
    "p = Person()\n",
    "print(p.get_age())\n",
    "print(p._Person__age)\n"
   ]
  },
  {
   "cell_type": "markdown",
   "id": "1eec74f4",
   "metadata": {},
   "source": [
    "### 🔹 Q6. Create a Vehicle Class\n",
    "### Create a class Vehicle with:\n",
    "\n",
    "### Public attribute: brand\n",
    "\n",
    "### Private attribute: __speed\n",
    "\n",
    "### Getter and setter to:\n",
    "\n",
    "### Only allow speed between 0 and 200\n",
    "\n",
    "### Prevent setting speed to a negative number\n",
    "\n",
    "### Print values using both direct and method-based access. Observe what fails and why.\n",
    "\n"
   ]
  },
  {
   "cell_type": "code",
   "execution_count": 5,
   "id": "28667f54",
   "metadata": {},
   "outputs": [
    {
     "name": "stdout",
     "output_type": "stream",
     "text": [
      "[✓] Allowed Speed: 20 km/h\n",
      "Current Speed (via getter): 20 km/h\n",
      "[✓] Allowed Speed: 50 km/h\n",
      "Current Speed (via getter): 50 km/h\n",
      "[✓] Allowed Speed: 100 km/h\n",
      "Current Speed (via getter): 100 km/h\n",
      "[✓] Allowed Speed: 160 km/h\n",
      "Current Speed (via getter): 160 km/h\n",
      "[✓] Allowed Speed: 200 km/h\n",
      "Current Speed (via getter): 200 km/h\n",
      "[✗] Overspeeding! Challan for 210 km/h\n",
      "Current Speed (via getter): 200 km/h\n",
      "[✗] Overspeeding! Challan for 220 km/h\n",
      "Current Speed (via getter): 200 km/h\n"
     ]
    }
   ],
   "source": [
    "# class Vehicle :\n",
    "#     def __init__(self,brand):\n",
    "#         self.brand = brand \n",
    "#         self.__speed = 0\n",
    "#     def get_speed (self):\n",
    "#         return self.__speed\n",
    "#     def set_speed(self,speed):\n",
    "#         self.__speed = speed\n",
    "#         if speed <=200 : \n",
    "#             print(f\"Allow to that speed {self.__speed}\")\n",
    "#         else :\n",
    "#             print(f\"Challan on that speed {self.__speed}\")\n",
    "            \n",
    "# s = Vehicle(\"Toyota\")\n",
    "# lst = [20,50,100,160,200,210,220]\n",
    "\n",
    "# for i in lst :\n",
    "#     s.set_speed(i)\n",
    "#     s.get_speed()\n",
    "    \n",
    "class Vehicle:\n",
    "    def __init__(self, brand):\n",
    "        self.brand = brand\n",
    "        self.__speed = 0\n",
    "\n",
    "    def get_speed(self):\n",
    "        return self.__speed\n",
    "\n",
    "    def set_speed(self, speed):\n",
    "        if 0 <= speed <= 200:\n",
    "            self.__speed = speed\n",
    "            print(f\"[✓] Allowed Speed: {self.__speed} km/h\")\n",
    "        else:\n",
    "            print(f\"[✗] Overspeeding! Challan for {speed} km/h\")\n",
    "\n",
    "# Testing\n",
    "s = Vehicle(\"Toyota\")\n",
    "lst = [20, 50, 100, 160, 200, 210, 220]\n",
    "\n",
    "for i in lst:\n",
    "    s.set_speed(i)\n",
    "    print(f\"Current Speed (via getter): {s.get_speed()} km/h\")\n"
   ]
  },
  {
   "cell_type": "code",
   "execution_count": null,
   "id": "1a4db435",
   "metadata": {},
   "outputs": [],
   "source": []
  }
 ],
 "metadata": {
  "kernelspec": {
   "display_name": "Python 3",
   "language": "python",
   "name": "python3"
  },
  "language_info": {
   "codemirror_mode": {
    "name": "ipython",
    "version": 3
   },
   "file_extension": ".py",
   "mimetype": "text/x-python",
   "name": "python",
   "nbconvert_exporter": "python",
   "pygments_lexer": "ipython3",
   "version": "3.13.1"
  }
 },
 "nbformat": 4,
 "nbformat_minor": 5
}
