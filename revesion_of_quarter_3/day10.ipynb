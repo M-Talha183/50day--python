{
 "cells": [
  {
   "cell_type": "markdown",
   "id": "6c357ac8",
   "metadata": {},
   "source": [
    "## 🔹 Q1. Class and Object Creation\n",
    "### Create a class Book with two attributes: title and author.\n",
    "### Write an __init__() method to initialize them and a describe() method that prints the title and author.\n",
    "\n"
   ]
  },
  {
   "cell_type": "code",
   "execution_count": null,
   "id": "6141beb4",
   "metadata": {},
   "outputs": [
    {
     "name": "stdout",
     "output_type": "stream",
     "text": [
      "The Title is Python Basic\n",
      " Auther is Talha\n"
     ]
    }
   ],
   "source": [
    "class Book :\n",
    "    def __init__(self, title , author):\n",
    "        self.title  = title\n",
    "        self.author = author\n",
    "    def describe(self):\n",
    "        print(f\"The Title is {self.title}\\n Author is {self.author}\")\n",
    "        \n",
    "s = Book(\"Python Basic\", \"Talha\")\n",
    "s.describe()        "
   ]
  },
  {
   "cell_type": "markdown",
   "id": "599ad48e",
   "metadata": {},
   "source": [
    "#### 🔹 Q2. Access Modifier Practice\n",
    "#### Create a class Employee with:\n",
    "#### A public attribute name\n",
    "#### A protected attribute _department\n",
    "#### A private attribute __salary\n",
    "#### Instantiate the object and try printing all three. What works and what gives an error?\n",
    "\n"
   ]
  },
  {
   "cell_type": "code",
   "execution_count": null,
   "id": "8004e379",
   "metadata": {},
   "outputs": [
    {
     "name": "stdout",
     "output_type": "stream",
     "text": [
      "Talha\n",
      "IT\n",
      "20000\n"
     ]
    }
   ],
   "source": [
    "class Employee :\n",
    "    def __init__(self , name , department , salary):\n",
    "        self.name = name \n",
    "        self._department = department\n",
    "        self.__salary = salary  \n",
    "        \n",
    "\n",
    "        \n",
    "s = employee(\"Talha\",\"IT\",\"20000\")\n",
    "print(s.name)        \n",
    "print(s._department)        \n",
    "print(s._Employee__salary)        \n",
    "        "
   ]
  },
  {
   "cell_type": "code",
   "execution_count": null,
   "id": "dd80b394",
   "metadata": {},
   "outputs": [],
   "source": []
  }
 ],
 "metadata": {
  "kernelspec": {
   "display_name": "Python 3",
   "language": "python",
   "name": "python3"
  },
  "language_info": {
   "codemirror_mode": {
    "name": "ipython",
    "version": 3
   },
   "file_extension": ".py",
   "mimetype": "text/x-python",
   "name": "python",
   "nbconvert_exporter": "python",
   "pygments_lexer": "ipython3",
   "version": "3.13.1"
  }
 },
 "nbformat": 4,
 "nbformat_minor": 5
}
