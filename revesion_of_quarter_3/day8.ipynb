{
 "cells": [
  {
   "cell_type": "markdown",
   "id": "de7087df",
   "metadata": {},
   "source": [
    "### Exercise 15: Get an int value of base raises to the power of exponent"
   ]
  },
  {
   "cell_type": "code",
   "execution_count": 2,
   "id": "623131f7",
   "metadata": {},
   "outputs": [
    {
     "name": "stdout",
     "output_type": "stream",
     "text": [
      "125\n"
     ]
    }
   ],
   "source": [
    "base = int(input(\"Enter the base \"))\n",
    "exponent = int(input(\"Enter the exponent\"))\n",
    "print(base**exponent)"
   ]
  },
  {
   "cell_type": "markdown",
   "id": "406c2060",
   "metadata": {},
   "source": [
    "### Exercise 14: Print a downward half-pyramid pattern of stars\n"
   ]
  },
  {
   "cell_type": "markdown",
   "id": "d0df9072",
   "metadata": {},
   "source": [
    "### Exercise 13: Print multiplication table from 1 to 10\n"
   ]
  },
  {
   "cell_type": "markdown",
   "id": "a4989a61",
   "metadata": {},
   "source": []
  }
 ],
 "metadata": {
  "kernelspec": {
   "display_name": "Python 3",
   "language": "python",
   "name": "python3"
  },
  "language_info": {
   "codemirror_mode": {
    "name": "ipython",
    "version": 3
   },
   "file_extension": ".py",
   "mimetype": "text/x-python",
   "name": "python",
   "nbconvert_exporter": "python",
   "pygments_lexer": "ipython3",
   "version": "3.13.1"
  }
 },
 "nbformat": 4,
 "nbformat_minor": 5
}
