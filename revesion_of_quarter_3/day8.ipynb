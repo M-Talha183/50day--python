{
 "cells": [
  {
   "cell_type": "markdown",
   "id": "de7087df",
   "metadata": {},
   "source": [
    "### Exercise 15: Get an int value of base raises to the power of exponent"
   ]
  },
  {
   "cell_type": "markdown",
   "id": "406c2060",
   "metadata": {},
   "source": [
    "### Exercise 14: Print a downward half-pyramid pattern of stars\n"
   ]
  },
  {
   "cell_type": "markdown",
   "id": "d0df9072",
   "metadata": {},
   "source": [
    "### Exercise 13: Print multiplication table from 1 to 10\n"
   ]
  },
  {
   "cell_type": "markdown",
   "id": "a4989a61",
   "metadata": {},
   "source": []
  }
 ],
 "metadata": {
  "language_info": {
   "name": "python"
  }
 },
 "nbformat": 4,
 "nbformat_minor": 5
}
