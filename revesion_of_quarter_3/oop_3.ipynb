{
 "cells": [
  {
   "cell_type": "markdown",
   "id": "85988d9b",
   "metadata": {},
   "source": [
    "#### OOP Exercise 6: Class Inheritance\n"
   ]
  },
  {
   "cell_type": "code",
   "execution_count": 7,
   "id": "f69d66c4",
   "metadata": {},
   "outputs": [
    {
     "name": "stdout",
     "output_type": "stream",
     "text": [
      "Total Bus fare is: 5500.0\n"
     ]
    }
   ],
   "source": [
    "class Vehicle :\n",
    "    def __init__(self, name , milage, capacity):\n",
    "        self.name = name \n",
    "        self.milage = milage\n",
    "        self.capacity = capacity\n",
    "        \n",
    "    def fare (self):\n",
    "        return self.capacity * 100\n",
    "        \n",
    "        \n",
    "class Bus(Vehicle):\n",
    "        \n",
    "    def fare(self):\n",
    "       return super().fare() + (self.capacity * 100) / 10\n",
    "   \n",
    "School_bus = Bus(\"School Volvo\", 12, 50)\n",
    "print(\"Total Bus fare is:\",School_bus.fare())\n"
   ]
  },
  {
   "cell_type": "markdown",
   "id": "86371153",
   "metadata": {},
   "source": [
    "#### OOP Exercise 7: Check type of an object\n"
   ]
  },
  {
   "cell_type": "code",
   "execution_count": 8,
   "id": "87d71759",
   "metadata": {},
   "outputs": [
    {
     "name": "stdout",
     "output_type": "stream",
     "text": [
      "Total Bus fare is: 5500.0\n",
      "<class '__main__.Bus'>\n"
     ]
    }
   ],
   "source": [
    "class Vehicle :\n",
    "    def __init__(self, name , milage, capacity):\n",
    "        self.name = name \n",
    "        self.milage = milage\n",
    "        self.capacity = capacity\n",
    "        \n",
    "    def fare (self):\n",
    "        return self.capacity * 100\n",
    "        \n",
    "        \n",
    "class Bus(Vehicle):\n",
    "        \n",
    "    def fare(self):\n",
    "       return super().fare() + (self.capacity * 100) / 10\n",
    "   \n",
    "School_bus = Bus(\"School Volvo\", 12, 50)\n",
    "print(\"Total Bus fare is:\",School_bus.fare())\n",
    "print(type(School_bus))"
   ]
  },
  {
   "cell_type": "markdown",
   "id": "50bb6b67",
   "metadata": {},
   "source": [
    "#### OOP Exercise 8: Determine if School_bus is also an instance of the Vehicle class"
   ]
  },
  {
   "cell_type": "code",
   "execution_count": 9,
   "id": "11cd9c9d",
   "metadata": {},
   "outputs": [
    {
     "name": "stdout",
     "output_type": "stream",
     "text": [
      "Total Bus fare is: 5500.0\n",
      "True\n"
     ]
    }
   ],
   "source": [
    "class Vehicle :\n",
    "    def __init__(self, name , milage, capacity):\n",
    "        self.name = name \n",
    "        self.milage = milage\n",
    "        self.capacity = capacity\n",
    "        \n",
    "    def fare (self):\n",
    "        return self.capacity * 100\n",
    "        \n",
    "        \n",
    "class Bus(Vehicle):\n",
    "        \n",
    "    def fare(self):\n",
    "       return super().fare() + (self.capacity * 100) / 10\n",
    "   \n",
    "School_bus = Bus(\"School Volvo\", 12, 50)\n",
    "print(\"Total Bus fare is:\",School_bus.fare())\n",
    "print(isinstance(School_bus,Vehicle))"
   ]
  },
  {
   "cell_type": "markdown",
   "id": "bb5f0901",
   "metadata": {},
   "source": []
  },
  {
   "cell_type": "code",
   "execution_count": 12,
   "id": "dc46f351",
   "metadata": {},
   "outputs": [
    {
     "name": "stdout",
     "output_type": "stream",
     "text": [
      "False\n",
      "True\n",
      "True\n",
      "False\n"
     ]
    }
   ],
   "source": [
    "class Animal:\n",
    "    pass\n",
    "\n",
    "class Dog(Animal):\n",
    "    pass\n",
    "\n",
    "class Puppy(Dog):\n",
    "    pass\n",
    "\n",
    "class Cat:\n",
    "    pass\n",
    "\n",
    "\n",
    "print(issubclass(Cat,Dog))\n",
    "print(issubclass(Puppy,Dog))\n",
    "print(issubclass(Dog,Animal))\n",
    "print(issubclass(Animal,Dog))"
   ]
  },
  {
   "cell_type": "markdown",
   "id": "89f4c7ba",
   "metadata": {},
   "source": [
    "OOP Exercise 10: Calculate the area of different shapes using OOP\n"
   ]
  },
  {
   "cell_type": "code",
   "execution_count": 13,
   "id": "84d1927b",
   "metadata": {},
   "outputs": [
    {
     "name": "stdout",
     "output_type": "stream",
     "text": [
      "78.53975\n",
      "49\n",
      "28.27431\n"
     ]
    }
   ],
   "source": [
    "class Shape:\n",
    "    def area(self):\n",
    "        raise NotImplementedError(\"Area method must be implemented by subclasses\")\n",
    "\n",
    "class Circle(Shape):\n",
    "    def __init__(self, radius):\n",
    "        self.radius = radius\n",
    "\n",
    "    def area(self):  # Overriding the area method\n",
    "        return 3.14159 * self.radius**2\n",
    "\n",
    "class Square(Shape):\n",
    "    def __init__(self, side):\n",
    "        self.side = side\n",
    "\n",
    "    def area(self):  # Overriding the area method\n",
    "        return self.side * self.side\n",
    "\n",
    "# Example of polymorphism\n",
    "shapes = [Circle(5), Square(7), Circle(3)]\n",
    "\n",
    "for shape in shapes:\n",
    "    print(shape.area())  # Output: 78.53975, 49, 28.27431"
   ]
  },
  {
   "cell_type": "code",
   "execution_count": null,
   "id": "a0e8074e",
   "metadata": {},
   "outputs": [],
   "source": []
  }
 ],
 "metadata": {
  "kernelspec": {
   "display_name": "Python 3",
   "language": "python",
   "name": "python3"
  },
  "language_info": {
   "codemirror_mode": {
    "name": "ipython",
    "version": 3
   },
   "file_extension": ".py",
   "mimetype": "text/x-python",
   "name": "python",
   "nbconvert_exporter": "python",
   "pygments_lexer": "ipython3",
   "version": "3.13.1"
  }
 },
 "nbformat": 4,
 "nbformat_minor": 5
}
