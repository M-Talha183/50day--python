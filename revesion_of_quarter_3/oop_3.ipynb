{
 "cells": [
  {
   "cell_type": "markdown",
   "id": "85988d9b",
   "metadata": {},
   "source": [
    "#### OOP Exercise 6: Class Inheritance\n"
   ]
  },
  {
   "cell_type": "code",
   "execution_count": 7,
   "id": "f69d66c4",
   "metadata": {},
   "outputs": [
    {
     "name": "stdout",
     "output_type": "stream",
     "text": [
      "Total Bus fare is: 5500.0\n"
     ]
    }
   ],
   "source": [
    "class Vehicle :\n",
    "    def __init__(self, name , milage, capacity):\n",
    "        self.name = name \n",
    "        self.milage = milage\n",
    "        self.capacity = capacity\n",
    "        \n",
    "    def fare (self):\n",
    "        return self.capacity * 100\n",
    "        \n",
    "        \n",
    "class Bus(Vehicle):\n",
    "        \n",
    "    def fare(self):\n",
    "       return super().fare() + (self.capacity * 100) / 10\n",
    "   \n",
    "School_bus = Bus(\"School Volvo\", 12, 50)\n",
    "print(\"Total Bus fare is:\",School_bus.fare())\n"
   ]
  },
  {
   "cell_type": "markdown",
   "id": "86371153",
   "metadata": {},
   "source": [
    "#### OOP Exercise 7: Check type of an object\n"
   ]
  },
  {
   "cell_type": "code",
   "execution_count": 8,
   "id": "87d71759",
   "metadata": {},
   "outputs": [
    {
     "name": "stdout",
     "output_type": "stream",
     "text": [
      "Total Bus fare is: 5500.0\n",
      "<class '__main__.Bus'>\n"
     ]
    }
   ],
   "source": [
    "class Vehicle :\n",
    "    def __init__(self, name , milage, capacity):\n",
    "        self.name = name \n",
    "        self.milage = milage\n",
    "        self.capacity = capacity\n",
    "        \n",
    "    def fare (self):\n",
    "        return self.capacity * 100\n",
    "        \n",
    "        \n",
    "class Bus(Vehicle):\n",
    "        \n",
    "    def fare(self):\n",
    "       return super().fare() + (self.capacity * 100) / 10\n",
    "   \n",
    "School_bus = Bus(\"School Volvo\", 12, 50)\n",
    "print(\"Total Bus fare is:\",School_bus.fare())\n",
    "print(type(School_bus))"
   ]
  },
  {
   "cell_type": "code",
   "execution_count": null,
   "id": "11cd9c9d",
   "metadata": {},
   "outputs": [],
   "source": []
  }
 ],
 "metadata": {
  "kernelspec": {
   "display_name": "Python 3",
   "language": "python",
   "name": "python3"
  },
  "language_info": {
   "codemirror_mode": {
    "name": "ipython",
    "version": 3
   },
   "file_extension": ".py",
   "mimetype": "text/x-python",
   "name": "python",
   "nbconvert_exporter": "python",
   "pygments_lexer": "ipython3",
   "version": "3.13.1"
  }
 },
 "nbformat": 4,
 "nbformat_minor": 5
}
