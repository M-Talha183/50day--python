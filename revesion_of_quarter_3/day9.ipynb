{
 "cells": [
  {
   "cell_type": "markdown",
   "id": "9a6e99fa",
   "metadata": {},
   "source": [
    "### Exercise 13: Print multiplication table from 1 to 10\n"
   ]
  },
  {
   "cell_type": "markdown",
   "id": "777dcb45",
   "metadata": {},
   "source": [
    "### Exercise 12: Calculate income tax\n"
   ]
  },
  {
   "cell_type": "markdown",
   "id": "ab0a5105",
   "metadata": {},
   "source": [
    "### Exercise 11: Get each digit from a number in the reverse order.\n"
   ]
  },
  {
   "cell_type": "markdown",
   "id": "27fb19f1",
   "metadata": {},
   "source": []
  }
 ],
 "metadata": {
  "language_info": {
   "name": "python"
  }
 },
 "nbformat": 4,
 "nbformat_minor": 5
}
