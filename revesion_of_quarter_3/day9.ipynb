{
 "cells": [
  {
   "cell_type": "markdown",
   "id": "9a6e99fa",
   "metadata": {},
   "source": [
    "### Exercise 13: Print multiplication table from 1 to 10\n"
   ]
  },
  {
   "cell_type": "code",
   "execution_count": 2,
   "id": "669a74b6",
   "metadata": {},
   "outputs": [
    {
     "name": "stdout",
     "output_type": "stream",
     "text": [
      "Multiplication able of 1\n",
      "1 2 3 4 5 6 7 8 9 10 \n",
      "Multiplication able of 2\n",
      "2 4 6 8 10 12 14 16 18 20 \n",
      "Multiplication able of 3\n",
      "3 6 9 12 15 18 21 24 27 30 \n",
      "Multiplication able of 4\n",
      "4 8 12 16 20 24 28 32 36 40 \n",
      "Multiplication able of 5\n",
      "5 10 15 20 25 30 35 40 45 50 \n",
      "Multiplication able of 6\n",
      "6 12 18 24 30 36 42 48 54 60 \n",
      "Multiplication able of 7\n",
      "7 14 21 28 35 42 49 56 63 70 \n",
      "Multiplication able of 8\n",
      "8 16 24 32 40 48 56 64 72 80 \n",
      "Multiplication able of 9\n",
      "9 18 27 36 45 54 63 72 81 90 \n",
      "Multiplication able of 10\n",
      "10 20 30 40 50 60 70 80 90 100 \n"
     ]
    }
   ],
   "source": [
    "for i in range(1,11):\n",
    "    print(f\"Multiplication able of {i}\")\n",
    "    for j in range(1,11):\n",
    "        print(i*j, end=\" \")\n",
    "        \n",
    "    print()"
   ]
  },
  {
   "cell_type": "markdown",
   "id": "777dcb45",
   "metadata": {},
   "source": [
    "### Exercise 12: Calculate income tax\n"
   ]
  },
  {
   "cell_type": "markdown",
   "id": "ab0a5105",
   "metadata": {},
   "source": [
    "### Exercise 11: Get each digit from a number in the reverse order.\n"
   ]
  },
  {
   "cell_type": "markdown",
   "id": "cb237cfd",
   "metadata": {},
   "source": [
    "### Exercise 10: Merge two lists using the following condition\n"
   ]
  },
  {
   "cell_type": "markdown",
   "id": "0dcc4d5d",
   "metadata": {},
   "source": [
    "### Exercise 9: Check Palindrome Number\n"
   ]
  },
  {
   "cell_type": "markdown",
   "id": "27fb19f1",
   "metadata": {},
   "source": []
  }
 ],
 "metadata": {
  "kernelspec": {
   "display_name": "Python 3",
   "language": "python",
   "name": "python3"
  },
  "language_info": {
   "codemirror_mode": {
    "name": "ipython",
    "version": 3
   },
   "file_extension": ".py",
   "mimetype": "text/x-python",
   "name": "python",
   "nbconvert_exporter": "python",
   "pygments_lexer": "ipython3",
   "version": "3.13.1"
  }
 },
 "nbformat": 4,
 "nbformat_minor": 5
}
