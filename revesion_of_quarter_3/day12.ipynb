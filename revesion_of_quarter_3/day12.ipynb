{
 "cells": [
  {
   "cell_type": "markdown",
   "id": "d1973dce",
   "metadata": {},
   "source": [
    "\n",
    "\n",
    "🔄 Module 5: Polymorphism\n",
    "Method Overloading (conceptual, Python doesn't support directly)\n",
    "\n",
    "Method Overriding\n",
    "\n",
    "Duck Typing\n",
    "\n",
    "Operator Overloading using Magic Methods (e.g., __add__, __str__, __len__)\n",
    "\n"
   ]
  },
  {
   "cell_type": "markdown",
   "id": "215df0c6",
   "metadata": {},
   "source": []
  }
 ],
 "metadata": {
  "language_info": {
   "name": "python"
  }
 },
 "nbformat": 4,
 "nbformat_minor": 5
}
