{
 "cells": [
  {
   "cell_type": "markdown",
   "id": "4d747592",
   "metadata": {},
   "source": [
    "## OOP Exercise 1: Create a Class with instance attributes\n"
   ]
  },
  {
   "cell_type": "markdown",
   "id": "56ee1d85",
   "metadata": {},
   "source": [
    "#### Write a Python program to create a Vehicle class with max_speed and mileage instance attributes"
   ]
  },
  {
   "cell_type": "code",
   "execution_count": 2,
   "id": "050b975d",
   "metadata": {},
   "outputs": [
    {
     "name": "stdout",
     "output_type": "stream",
     "text": [
      "speed is 200 and milage is 150\n"
     ]
    }
   ],
   "source": [
    "class Vehicle :\n",
    "    def __init__(self, max_speed , milage):\n",
    "        self.max_speed = max_speed\n",
    "        self.milage = milage\n",
    "        \n",
    "    def dilsplay (self):\n",
    "        print(f\"speed is {self.max_speed} and milage is {self.milage}\")\n",
    "        \n",
    "A = Vehicle(200,150)\n",
    "A.dilsplay()"
   ]
  },
  {
   "cell_type": "markdown",
   "id": "edb2b055",
   "metadata": {},
   "source": [
    "#### OOP Exercise 2: Create a Vehicle class without any variables and methods\n"
   ]
  },
  {
   "cell_type": "code",
   "execution_count": 3,
   "id": "ef41c651",
   "metadata": {},
   "outputs": [],
   "source": [
    "class Vehicle:\n",
    "    pass"
   ]
  },
  {
   "cell_type": "markdown",
   "id": "b5916b90",
   "metadata": {},
   "source": [
    "#### OOP Exercise 3: Create a child class Bus that will inherit all of the variables and methods of the Vehicle class"
   ]
  },
  {
   "cell_type": "markdown",
   "id": "c87481e2",
   "metadata": {},
   "source": [
    "#### Given:\n",
    "\n",
    "class Vehicle:\n",
    "\n",
    "    def __init__(self, name, max_speed, mileage):\n",
    "        self.name = name\n",
    "        self.max_speed = max_speed\n",
    "        self.mileage = mileage\n",
    "\n",
    "Create a Bus object that will inherit all of the variables and methods of the parent Vehicle class and display it.\n",
    "\n",
    "Expected Output:\n",
    "\n",
    "Vehicle Name: School Volvo Speed: 180 Mileage: 12\n"
   ]
  },
  {
   "cell_type": "code",
   "execution_count": 5,
   "id": "f8b4755b",
   "metadata": {},
   "outputs": [
    {
     "name": "stdout",
     "output_type": "stream",
     "text": [
      "speed is 150 and milage is 12\n"
     ]
    }
   ],
   "source": [
    "class Vehicle :\n",
    "    def __init__(self, max_speed , milage):\n",
    "        self.max_speed = max_speed\n",
    "        self.milage = milage\n",
    "        \n",
    "    def dilsplay (self):\n",
    "        print(f\"speed is {self.max_speed} and milage is {self.milage}\")\n",
    "\n",
    "class Bus (Vehicle):\n",
    "    def __init__(self, max_speed, milage):\n",
    "        super().__init__(max_speed, milage)\n",
    "    \n",
    "        self.dilsplay()\n",
    "        \n",
    "B = Bus(150,12)"
   ]
  },
  {
   "cell_type": "markdown",
   "id": "4fb098ff",
   "metadata": {},
   "source": [
    "#### OOP Exercise 4: Class Inheritance\n",
    "Given:\n",
    "\n",
    "Create a Bus class that inherits from the Vehicle class. Give the capacity argument of Bus.seating_capacity() a default value of 50.\n",
    "\n",
    "Use the following code for your parent Vehicle class.\n",
    "\n",
    "class Vehicle:\n",
    "    def __init__(self, name, max_speed, mileage):\n",
    "        self.name = name\n",
    "        self.max_speed = max_speed\n",
    "        self.mileage = mileage\n",
    "\n",
    "    def seating_capacity(self, capacity):\n",
    "        return f\"The seating capacity of a {self.name} is {capacity} passengers\"\n",
    "\n",
    "Expected Output:\n",
    "\n",
    "The seating capacity of a bus is 50 passengers\n"
   ]
  },
  {
   "cell_type": "code",
   "execution_count": 8,
   "id": "0595b017",
   "metadata": {},
   "outputs": [
    {
     "name": "stdout",
     "output_type": "stream",
     "text": [
      "name VOLVOspeed is 180 and milage is 12\n",
      "seating capacity of a VOLVO is 70 passanger\n"
     ]
    }
   ],
   "source": [
    "class Vehicle :\n",
    "    def __init__(self,name, max_speed , milage):\n",
    "        self.name = name \n",
    "        self.max_speed = max_speed\n",
    "        self.milage = milage\n",
    "        \n",
    "    \n",
    "    def seating_capacity(self,capacity =50):\n",
    "        print(f\"seating capacity of a {self.name} is {capacity } passanger\")\n",
    "    def dilsplay (self):\n",
    "        print(f\"name {self.name}speed is {self.max_speed} and milage is {self.milage}\")\n",
    "\n",
    "class Bus (Vehicle):\n",
    "    def __init__(self,name, max_speed, milage):\n",
    "        super().__init__(name,max_speed, milage)\n",
    "    \n",
    "        self.dilsplay()\n",
    "        # self.seating_capacity()\n",
    "        \n",
    "B = Bus(\"VOLVO\",180,12)\n",
    "B.seating_capacity(70)\n",
    "        "
   ]
  },
  {
   "cell_type": "markdown",
   "id": "83b83217",
   "metadata": {},
   "source": [
    "#### OOP Exercise 5: Define a property that must have the same value for every class instance (object)\n",
    "Define a class attribute”color” with a default value white. I.e., Every Vehicle should be white.\n",
    "\n",
    "Use the following code for this exercise.\n",
    "\n",
    "class Vehicle:\n",
    "\n",
    "    def __init__(self, name, max_speed, mileage):\n",
    "        self.name = name\n",
    "        self.max_speed = max_speed\n",
    "        self.mileage = mileage\n",
    "\n",
    "class Bus(Vehicle):\n",
    "    pass\n",
    "\n",
    "class Car(Vehicle):\n",
    "    pass\n",
    "\n",
    "Expected Output:\n",
    "\n",
    "Color: White, Vehicle name: School Volvo, Speed: 180, Mileage: 12\n",
    "Color: White, Vehicle name: Audi Q5, Speed: 240, Mileage: 18\n"
   ]
  },
  {
   "cell_type": "code",
   "execution_count": 10,
   "id": "bee1afd6",
   "metadata": {},
   "outputs": [
    {
     "name": "stdout",
     "output_type": "stream",
     "text": [
      "Color:White Vehicle name :School Volvo ,speed 180 , 12\n",
      "Color:White Vehicle name :Audi Q5 ,speed 240 , 18\n"
     ]
    }
   ],
   "source": [
    "class Vehicle:\n",
    "    color=\"White\"\n",
    "    def __init__(self,name,max_speed,mileage):\n",
    "        self.name=name\n",
    "        self.max_speed=max_speed\n",
    "        self.mileage=mileage\n",
    "    def display(self):\n",
    "        print(f\"Color:{self.color} Vehicle name :{self.name} ,speed {self.max_speed} , {self.mileage}\")\n",
    "class Bus(Vehicle):\n",
    "    pass\n",
    "class Car(Vehicle):\n",
    "    pass\n",
    "B=Bus(\"School Volvo\",180,12)\n",
    "C=Car(\"Audi Q5\",240,18) \n",
    "B.display()      \n",
    "C.display()"
   ]
  },
  {
   "cell_type": "code",
   "execution_count": null,
   "id": "b6eb0ae4",
   "metadata": {},
   "outputs": [],
   "source": []
  }
 ],
 "metadata": {
  "kernelspec": {
   "display_name": "Python 3",
   "language": "python",
   "name": "python3"
  },
  "language_info": {
   "codemirror_mode": {
    "name": "ipython",
    "version": 3
   },
   "file_extension": ".py",
   "mimetype": "text/x-python",
   "name": "python",
   "nbconvert_exporter": "python",
   "pygments_lexer": "ipython3",
   "version": "3.13.1"
  }
 },
 "nbformat": 4,
 "nbformat_minor": 5
}
