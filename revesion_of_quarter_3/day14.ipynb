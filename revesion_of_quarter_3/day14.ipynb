{
 "cells": [
  {
   "cell_type": "markdown",
   "id": "0132c342",
   "metadata": {},
   "source": [
    "Practical Coding Task:\n",
    "➢ Scenario:\n",
    "You're building a simple calculator class. This calculator can add, subtract, multiply, and divide two\n",
    "numbers. You’ll use separate methods for each operation, and then a method to display all results\n",
    "together.\n",
    "▪ Task Requirements:\n",
    "1. Create a class named Calculator.\n",
    "2. Use _ _init_ _() to take two numbers: num1 and num2.\n",
    "3. Add the following methods:\n",
    "o add()\n",
    "o subtract()\n",
    "o multiply()\n",
    "o divide() (add check: division by zero)\n",
    "4. Add a method show_all() that:\n",
    "o Calls all the above methods\n",
    "o Prints results in this format:\n",
    "5. Create one object with numbers of your choice (e.g., 10 and 2), and call\n"
   ]
  },
  {
   "cell_type": "code",
   "execution_count": null,
   "id": "1fececd1",
   "metadata": {},
   "outputs": [],
   "source": [
    "class Calculator :\n",
    "    def __init__(self, num1:int, num2:int):\n",
    "        self.num1 = num1\n",
    "        self.num2 = num2\n",
    "        \n",
    "    def add(self):\n",
    "        return self.num1 + self.num2\n",
    "    def sub(self):\n",
    "        return self.num1 - self.num2\n",
    "    \n",
    "    \n",
    "        "
   ]
  },
  {
   "cell_type": "markdown",
   "id": "04607ce7",
   "metadata": {},
   "source": [
    "Practical Coding Task:\n",
    "➢ Scenario:\n",
    "### You’re creating a BankAccount class where:\n",
    "#### • The balance should not be directly accessible or changeable.\n",
    "####  • Only controlled functions should be able to set or get the balance.\n",
    "#### ❖ Task Requirements:\n",
    "#### 1. Create a class called BankAccount.\n",
    "#### 2. Use _ _init_ _() to take:\n",
    "#### o account_holder\n",
    "#### o initial_balance (set this as a private variable using __balance)\n",
    "#### 3. Add the following methods:\n",
    "#### o deposit(amount) —> only adds if amount is positive\n",
    "#### o withdraw(amount) —> checks if balance is enough before deducting\n",
    "#### o get_balance() —> returns current balance (getter)\n",
    "#### o set_balance(amount) —> sets balance only if amount is valid (setter with validation)\n",
    "#### 4. Create an object with sample data.5. Try to access __balance directly (and see it fails).\n",
    "#### 6. Use the methods to:\n",
    "#### o Deposit money\n",
    "#### o Withdraw money\n",
    "#### o Print balance using getter\n",
    "….Your Output Example…. :\n",
    "Depositing 500...\n",
    "Withdrawing 200...\n",
    "Current balance: 300\n"
   ]
  },
  {
   "cell_type": "code",
   "execution_count": 10,
   "id": "586e59ff",
   "metadata": {},
   "outputs": [
    {
     "name": "stdout",
     "output_type": "stream",
     "text": [
      "Withdrawing 2000...\n"
     ]
    },
    {
     "data": {
      "text/plain": [
       "8000"
      ]
     },
     "execution_count": 10,
     "metadata": {},
     "output_type": "execute_result"
    }
   ],
   "source": [
    "class BankAccount :\n",
    "    def __init__(self,account_holder,initial_balance ):\n",
    "        self.account_holder =account_holder\n",
    "        self.__balance = initial_balance\n",
    "    def deposite(self, amount):\n",
    "        if amount >= 0:\n",
    "            self.__balance += amount\n",
    "            print(f\"Depositing {amount}...\")  # Feedback message\n",
    "\n",
    "        else:\n",
    "            print(\"Deposit amount must be positive.\")\n",
    "\n",
    "            \n",
    "            \n",
    "    def withdraw(self, amount):\n",
    "        if 0 < amount <= self.__balance:\n",
    "            self.__balance -= amount\n",
    "            print(f\"Withdrawing {amount}...\")  # Feedback message\n",
    "  \n",
    "            \n",
    "    def get_balance(self):\n",
    "        return self.__balance\n",
    "    def set_balance(self,amount):\n",
    "        if amount >= 0:\n",
    "            self.__balance = amount\n",
    "            print(f\"Balance set to {amount}\")\n",
    "        else:\n",
    "            print(\"Invalid balance amount.\")\n",
    "        \n",
    "S= BankAccount(\"Talha\",10000)\n",
    "# S.deposite(5000)\n",
    "S.withdraw(2000)\n",
    "S.get_balance()"
   ]
  },
  {
   "cell_type": "code",
   "execution_count": null,
   "id": "5fe66a33",
   "metadata": {},
   "outputs": [
    {
     "name": "stdout",
     "output_type": "stream",
     "text": [
      "name Talha age 20\n"
     ]
    }
   ],
   "source": []
  },
  {
   "cell_type": "code",
   "execution_count": null,
   "id": "e1a811bc",
   "metadata": {},
   "outputs": [],
   "source": []
  }
 ],
 "metadata": {
  "kernelspec": {
   "display_name": "Python 3",
   "language": "python",
   "name": "python3"
  },
  "language_info": {
   "codemirror_mode": {
    "name": "ipython",
    "version": 3
   },
   "file_extension": ".py",
   "mimetype": "text/x-python",
   "name": "python",
   "nbconvert_exporter": "python",
   "pygments_lexer": "ipython3",
   "version": "3.13.1"
  }
 },
 "nbformat": 4,
 "nbformat_minor": 5
}
