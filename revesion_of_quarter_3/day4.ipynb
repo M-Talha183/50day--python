{
 "cells": [
  {
   "cell_type": "markdown",
   "id": "5fec015e",
   "metadata": {},
   "source": [
    "### Exercise 5: Display numbers from a list using a loop\n",
    "Write a Python program to display only those numbers from a list that satisfy the following conditions\n",
    "\n",
    "### The number must be divisible by five\n",
    "### If the number is greater than 150, then skip it and move to the following number\n",
    "### If the number is greater than 500, then stop the loop\n",
    "\n"
   ]
  },
  {
   "cell_type": "code",
   "execution_count": 3,
   "id": "12f23df1",
   "metadata": {},
   "outputs": [
    {
     "name": "stdout",
     "output_type": "stream",
     "text": [
      "75\n",
      "150\n",
      "145\n"
     ]
    }
   ],
   "source": [
    "numbers = [12, 75, 150, 180, 145, 525, 50]\n",
    "ny_num = []\n",
    "for i in numbers:\n",
    "    if i > 500:\n",
    "        break\n",
    "    if i > 150 :\n",
    "         continue\n",
    "    if i % 5 == 0:\n",
    "        print(i)\n",
    "        \n",
    "# print(ny_num)\n",
    "     "
   ]
  },
  {
   "cell_type": "markdown",
   "id": "0a49ee70",
   "metadata": {},
   "source": [
    "### Exercise 6: Count the total number of digits in a number\n",
    "### Write a Python program to count the total number of digits in a number using a while loop.\n",
    "\n",
    "### For example, the number is 75869, so the output should be 5.\n",
    "\n"
   ]
  },
  {
   "cell_type": "code",
   "execution_count": 11,
   "id": "be96bb62",
   "metadata": {},
   "outputs": [
    {
     "name": "stdout",
     "output_type": "stream",
     "text": [
      "9\n"
     ]
    }
   ],
   "source": [
    "number = int(input(\"Enter the number so count it digit \"))\n",
    "\n",
    "counter = 0\n",
    "while number != 0:\n",
    "    number = number // 10\n",
    "    # print(number)\n",
    "    counter +=1\n",
    "    \n",
    "print(counter)"
   ]
  },
  {
   "cell_type": "markdown",
   "id": "255b7b24",
   "metadata": {},
   "source": [
    "Exercise 7: Print the following pattern\n",
    "## 5 4 3 2 1 \n",
    "## 4 3 2 1 \n",
    "## 3 2 1 \n",
    "## 2 1 \n",
    "## 1\n"
   ]
  },
  {
   "cell_type": "code",
   "execution_count": 20,
   "id": "468e6716",
   "metadata": {},
   "outputs": [
    {
     "name": "stdout",
     "output_type": "stream",
     "text": [
      "5 4 3 2 1  \n",
      "4 3 2 1  \n",
      "3 2 1  \n",
      "2 1  \n",
      "1  \n"
     ]
    }
   ],
   "source": [
    "for i in range (1,6):\n",
    "    for j in range(6-i,0,-1):\n",
    "        print(j, end=\" \")\n",
    "    print(\" \")"
   ]
  },
  {
   "cell_type": "markdown",
   "id": "f2f323a1",
   "metadata": {},
   "source": [
    "Exercise 8: Print list in reverse order using a loop\n"
   ]
  },
  {
   "cell_type": "code",
   "execution_count": 31,
   "id": "c333ab8b",
   "metadata": {},
   "outputs": [
    {
     "name": "stdout",
     "output_type": "stream",
     "text": [
      "50\n",
      "40\n",
      "30\n",
      "20\n",
      "10\n"
     ]
    }
   ],
   "source": [
    "list1 = [10, 20, 30, 40, 50]\n",
    "# print(len(list1))\n",
    "for i in range(len(list1)-1,-1,-1):\n",
    "    print(list1[i])\n",
    "    \n",
    "    "
   ]
  },
  {
   "cell_type": "markdown",
   "id": "231a4130",
   "metadata": {},
   "source": [
    "## Exercise 9: Display numbers from -10 to -1 using for loop\n"
   ]
  },
  {
   "cell_type": "code",
   "execution_count": 34,
   "id": "439b30b9",
   "metadata": {},
   "outputs": [
    {
     "name": "stdout",
     "output_type": "stream",
     "text": [
      "-10\n",
      "-9\n",
      "-8\n",
      "-7\n",
      "-6\n",
      "-5\n",
      "-4\n",
      "-3\n",
      "-2\n",
      "-1\n"
     ]
    }
   ],
   "source": [
    "for i in range(-10,0,1):\n",
    "    print(i)"
   ]
  },
  {
   "cell_type": "code",
   "execution_count": null,
   "id": "e9997db1",
   "metadata": {},
   "outputs": [],
   "source": []
  }
 ],
 "metadata": {
  "kernelspec": {
   "display_name": "Python 3",
   "language": "python",
   "name": "python3"
  },
  "language_info": {
   "codemirror_mode": {
    "name": "ipython",
    "version": 3
   },
   "file_extension": ".py",
   "mimetype": "text/x-python",
   "name": "python",
   "nbconvert_exporter": "python",
   "pygments_lexer": "ipython3",
   "version": "3.13.1"
  }
 },
 "nbformat": 4,
 "nbformat_minor": 5
}
