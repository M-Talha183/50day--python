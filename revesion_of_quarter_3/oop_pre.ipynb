{
 "cells": [
  {
   "cell_type": "markdown",
   "id": "698a1f1b",
   "metadata": {},
   "source": [
    ".\n",
    "\n",
    "🔹 Basic & Practical OOP Questions in Python (English)\n",
    "1. Create a Class and Object\n",
    "Question:\n",
    "Create a class Student that stores a student's name and age. Then create an object of this class and print the student's details.\n",
    "\n"
   ]
  },
  {
   "cell_type": "code",
   "execution_count": 3,
   "id": "562b6c61",
   "metadata": {},
   "outputs": [
    {
     "name": "stdout",
     "output_type": "stream",
     "text": [
      "name Talha age 20\n"
     ]
    }
   ],
   "source": [
    "\n",
    "class Student :\n",
    "    def __init__(self, name:str,age:int):\n",
    "        \n",
    "        self.name = name \n",
    "        self.age = age \n",
    "    def display(self):\n",
    "        print(f\"name {self.name} age {self.age}\")\n",
    "        \n",
    "S = Student(\"Talha\",20)\n",
    "\n",
    "S.display()"
   ]
  },
  {
   "cell_type": "markdown",
   "id": "297bbc7d",
   "metadata": {},
   "source": [
    "2. Using the Constructor (__init__)\n",
    "Question:\n",
    "Create a class Car with a constructor that takes brand and model as parameters. Create an object for a Toyota Corolla and print its information.\n",
    "\n"
   ]
  },
  {
   "cell_type": "code",
   "execution_count": 7,
   "id": "9c164a25",
   "metadata": {},
   "outputs": [
    {
     "name": "stdout",
     "output_type": "stream",
     "text": [
      "Toyota Corola\n"
     ]
    }
   ],
   "source": [
    "class Car :\n",
    "    def __init__(self, brand:str, model:str):\n",
    "        self.brand = brand\n",
    "        self.model = model \n",
    "        \n",
    "    def display_info(self):\n",
    "        print(f\"{self.brand} {self.model}\")\n",
    "        \n",
    "C = Car(\"Toyota\",\"Corola\")\n",
    "C.display_info()\n",
    "        "
   ]
  },
  {
   "cell_type": "code",
   "execution_count": null,
   "id": "6f1f7804",
   "metadata": {},
   "outputs": [],
   "source": []
  }
 ],
 "metadata": {
  "kernelspec": {
   "display_name": "Python 3",
   "language": "python",
   "name": "python3"
  },
  "language_info": {
   "codemirror_mode": {
    "name": "ipython",
    "version": 3
   },
   "file_extension": ".py",
   "mimetype": "text/x-python",
   "name": "python",
   "nbconvert_exporter": "python",
   "pygments_lexer": "ipython3",
   "version": "3.13.1"
  }
 },
 "nbformat": 4,
 "nbformat_minor": 5
}
