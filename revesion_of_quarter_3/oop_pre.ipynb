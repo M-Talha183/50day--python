{
 "cells": [
  {
   "cell_type": "markdown",
   "id": "698a1f1b",
   "metadata": {},
   "source": [
    ".\n",
    "\n",
    "🔹 Basic & Practical OOP Questions in Python (English)\n",
    "1. Create a Class and Object\n",
    "Question:\n",
    "Create a class Student that stores a student's name and age. Then create an object of this class and print the student's details.\n",
    "\n"
   ]
  },
  {
   "cell_type": "code",
   "execution_count": 3,
   "id": "562b6c61",
   "metadata": {},
   "outputs": [
    {
     "name": "stdout",
     "output_type": "stream",
     "text": [
      "name Talha age 20\n"
     ]
    }
   ],
   "source": [
    "\n",
    "class Student :\n",
    "    def __init__(self, name:str,age:int):\n",
    "        \n",
    "        self.name = name \n",
    "        self.age = age \n",
    "    def display(self):\n",
    "        print(f\"name {self.name} age {self.age}\")\n",
    "        \n",
    "S = Student(\"Talha\",20)\n",
    "\n",
    "S.display()"
   ]
  },
  {
   "cell_type": "markdown",
   "id": "297bbc7d",
   "metadata": {},
   "source": [
    "2. Using the Constructor (__init__)\n",
    "Question:\n",
    "Create a class Car with a constructor that takes brand and model as parameters. Create an object for a Toyota Corolla and print its information.\n",
    "\n"
   ]
  },
  {
   "cell_type": "code",
   "execution_count": null,
   "id": "9c164a25",
   "metadata": {},
   "outputs": [
    {
     "name": "stdout",
     "output_type": "stream",
     "text": [
      "Toyota Corola\n"
     ]
    },
    {
     "data": {
      "text/plain": [
       "'Toyota'"
      ]
     },
     "execution_count": 12,
     "metadata": {},
     "output_type": "execute_result"
    }
   ],
   "source": [
    "class Car :\n",
    "    def __init__(self, brand:str, model:str):\n",
    "        self.brand = brand\n",
    "        self.model = model \n",
    "        \n",
    "    def display_info(self):\n",
    "        print(f\"{self.brand} {self.model}\")\n",
    "        \n",
    "C = Car(\"Toyota\",\"Corola\")\n",
    "C.display_info()\n",
    "        "
   ]
  },
  {
   "cell_type": "markdown",
   "id": "305e15d8",
   "metadata": {},
   "source": [
    "3. Understand the self Keyword\n",
    "Question:\n",
    "Create a class Person with a method display() that prints the person's name. Use the self keyword correctly and call the method using an object"
   ]
  },
  {
   "cell_type": "code",
   "execution_count": 8,
   "id": "6f1f7804",
   "metadata": {},
   "outputs": [
    {
     "name": "stdout",
     "output_type": "stream",
     "text": [
      "Talha\n"
     ]
    }
   ],
   "source": [
    "class Person :\n",
    "    name = input(\"Enter the name \")\n",
    "    def display(self):\n",
    "        print(self.name)\n",
    "\n",
    "P = Person()\n",
    "\n",
    "P.display()   \n"
   ]
  },
  {
   "cell_type": "markdown",
   "id": "a63fba93",
   "metadata": {},
   "source": [
    "4. Encapsulation\n",
    "Question:\n",
    "Create a class BankAccount that has a private variable balance. Write methods deposit() to add money and get_balance() to return the current balance.\n",
    "\n"
   ]
  },
  {
   "cell_type": "code",
   "execution_count": 15,
   "id": "2674b4aa",
   "metadata": {},
   "outputs": [
    {
     "data": {
      "text/plain": [
       "7000"
      ]
     },
     "execution_count": 15,
     "metadata": {},
     "output_type": "execute_result"
    }
   ],
   "source": [
    "class BankAccount:\n",
    "    def __init__(self,):\n",
    "        \n",
    "        self.__balance = 2000\n",
    "        \n",
    "    def get_balance(self):\n",
    "        return self.__balance\n",
    "    def Deposite(self,money):\n",
    "        if money > 0:\n",
    "            self.__balance += money\n",
    "        else :\n",
    "            print(\"Please Enter the valid amount \")\n",
    "            \n",
    "B = BankAccount()\n",
    "B.Deposite(5000)\n",
    "B.get_balance()\n",
    "            "
   ]
  },
  {
   "cell_type": "markdown",
   "id": "13a1bad4",
   "metadata": {},
   "source": [
    "5. Inheritance\n",
    "Question:\n",
    "Create a base class Animal with a method speak(). Create a subclass Dog that inherits from Animal and overrides speak() to print \"Bark\".\n",
    "\n"
   ]
  },
  {
   "cell_type": "code",
   "execution_count": 16,
   "id": "43251223",
   "metadata": {},
   "outputs": [
    {
     "data": {
      "text/plain": [
       "'Bark'"
      ]
     },
     "execution_count": 16,
     "metadata": {},
     "output_type": "execute_result"
    }
   ],
   "source": [
    "class Animal:\n",
    "    def speak(self):\n",
    "        return \"Some sound\"\n",
    "    \n",
    "class Dog(Animal):\n",
    "    def speak(self):\n",
    "        return \"Bark\"\n",
    "    \n",
    "D= Dog()\n",
    "D.speak()"
   ]
  },
  {
   "cell_type": "markdown",
   "id": "f6648e7d",
   "metadata": {},
   "source": [
    "6. Polymorphism\n",
    "Question:\n",
    "Create three classes: Cat, Dog, and Cow. All should have a method make_sound(), but each should output a different sound. Then loop through a list of objects and call make_sound() on each.\n",
    "\n"
   ]
  },
  {
   "cell_type": "code",
   "execution_count": 28,
   "id": "0ce20cb8",
   "metadata": {},
   "outputs": [
    {
     "name": "stdout",
     "output_type": "stream",
     "text": [
      "Meaoooo\n",
      "Barks\n",
      "maeeee\n"
     ]
    }
   ],
   "source": [
    "class Cat:\n",
    "    def make_sound(self):\n",
    "        return \"Meaoooo\"\n",
    "    \n",
    "class Dog:\n",
    "    def make_sound(self):\n",
    "        return \"Barks\"\n",
    "class Cow:\n",
    "    def make_sound(self):\n",
    "        return \"maeeee\"\n",
    "    \n",
    "lst =  [Cat(),Dog(),Cow()]\n",
    "\n",
    "for i in lst:\n",
    "    print(i.make_sound())        "
   ]
  },
  {
   "cell_type": "markdown",
   "id": "acb5ef30",
   "metadata": {},
   "source": [
    "7. Method Overriding\n",
    "Question:\n",
    "Create a class Shape with a method area(). Then create a subclass Rectangle that overrides the area() method to return length × width.\n",
    "\n"
   ]
  },
  {
   "cell_type": "code",
   "execution_count": 20,
   "id": "f14adc47",
   "metadata": {},
   "outputs": [
    {
     "data": {
      "text/plain": [
       "25"
      ]
     },
     "execution_count": 20,
     "metadata": {},
     "output_type": "execute_result"
    }
   ],
   "source": [
    "class Shape:\n",
    "    def area(self):\n",
    "        return self.length * self.length\n",
    "    \n",
    "class Ractangle(Shape):\n",
    "    def area(self, length, width):\n",
    "        return length * width\n",
    "    \n",
    "R = Ractangle()\n",
    "R.area(5,5)"
   ]
  },
  {
   "cell_type": "markdown",
   "id": "6cf0521d",
   "metadata": {},
   "source": [
    "8. Class Variable vs Instance Variable\n",
    "Question:\n",
    "Create a class Employee with a class variable company_name and an instance variable name. Create two objects with different names and print their details along with the shared company name.\n",
    "\n"
   ]
  },
  {
   "cell_type": "code",
   "execution_count": 25,
   "id": "3b934722",
   "metadata": {},
   "outputs": [
    {
     "name": "stdout",
     "output_type": "stream",
     "text": [
      "Toyota Talha\n",
      "Honda Zain\n"
     ]
    }
   ],
   "source": [
    "class Employee :\n",
    "    company_name = \"Toyota\"\n",
    "    def __init__(self,name):\n",
    "        self.name = name\n",
    "    def display(self):\n",
    "        print(self.company_name, self.name)\n",
    "        \n",
    "E = Employee(\"Talha\")\n",
    "E.display()\n",
    "\n",
    "C= Employee(\"Zain\")\n",
    "\n",
    "C.company_name=\"Honda\"\n",
    "C.display()"
   ]
  },
  {
   "cell_type": "markdown",
   "id": "ba2916ff",
   "metadata": {},
   "source": [
    "9. Store Objects in a List\n",
    "Question:\n",
    "Create a class Book with a title attribute. Create 3 objects of this class and store them in a list. Use a loop to print the title of each book.\n",
    "\n"
   ]
  },
  {
   "cell_type": "code",
   "execution_count": 26,
   "id": "fbbf0052",
   "metadata": {},
   "outputs": [
    {
     "name": "stdout",
     "output_type": "stream",
     "text": [
      "MY JOURNEY\n",
      "MY PMA\n",
      "MY DMA\n"
     ]
    }
   ],
   "source": [
    "class Book :\n",
    "    def __init__(self, title):\n",
    "        self.title = title\n",
    "        \n",
    "A= Book(\"MY JOURNEY\")\n",
    "B= Book(\"MY PMA\")\n",
    "C= Book(\"MY DMA\")\n",
    "\n",
    "lst = [A,B,C]\n",
    "\n",
    "for i in lst:\n",
    "    print(i.title)"
   ]
  },
  {
   "cell_type": "code",
   "execution_count": 31,
   "id": "840fdf26",
   "metadata": {},
   "outputs": [
    {
     "name": "stdout",
     "output_type": "stream",
     "text": [
      "Name: Talha, Grade: 10th, School: 4\n",
      "Name: Zain, Grade: 9th, School: 4\n",
      "\n",
      "After changing s2's school:\n",
      "Name: Talha, Grade: 10th, School: 4\n",
      "Name: Zain, Grade: 9th, School: 4\n"
     ]
    }
   ],
   "source": [
    "class Student:\n",
    "    # Class variable (same school for all)\n",
    "    Q = \"4\"\n",
    "\n",
    "    def __init__(self, name, grade):\n",
    "        # Instance variables (unique to each student)\n",
    "        self.name = name\n",
    "        self.grade = grade\n",
    "\n",
    "    def display_info(self):\n",
    "        print(f\"Name: {self.name}, Grade: {self.grade}, School: {self.Q}\")\n",
    "\n",
    "# Create two students\n",
    "s1 = Student(\"Talha\", \"10th\")\n",
    "s2 = Student(\"Zain\", \"9th\")\n",
    "\n",
    "s1.display_info()  # Green Valley School\n",
    "s2.display_info()  # Green Valley School\n",
    "\n",
    "# Change the school for Zain only (creates a new instance variable)\n",
    "s2.school_name = \"Blue Ocean School\"\n",
    "\n",
    "print(\"\\nAfter changing s2's school:\")\n",
    "s1.display_info()  # Still Green Valley School (class variable)\n",
    "s2.display_info()  # Blue Ocean School (instance variable now)\n"
   ]
  },
  {
   "cell_type": "code",
   "execution_count": null,
   "id": "1a65a3e7",
   "metadata": {},
   "outputs": [],
   "source": []
  }
 ],
 "metadata": {
  "kernelspec": {
   "display_name": "Python 3",
   "language": "python",
   "name": "python3"
  },
  "language_info": {
   "codemirror_mode": {
    "name": "ipython",
    "version": 3
   },
   "file_extension": ".py",
   "mimetype": "text/x-python",
   "name": "python",
   "nbconvert_exporter": "python",
   "pygments_lexer": "ipython3",
   "version": "3.13.1"
  }
 },
 "nbformat": 4,
 "nbformat_minor": 5
}
