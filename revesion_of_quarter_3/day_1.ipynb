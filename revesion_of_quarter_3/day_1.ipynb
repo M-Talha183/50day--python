{
 "cells": [
  {
   "cell_type": "markdown",
   "id": "e13fc78a",
   "metadata": {},
   "source": [
    "## Exercise 1: Reverse each word of a string\n"
   ]
  },
  {
   "cell_type": "code",
   "execution_count": null,
   "id": "36cabf9f",
   "metadata": {},
   "outputs": [
    {
     "name": "stdout",
     "output_type": "stream",
     "text": [
      "asseJ si emaN yM\n",
      "yM emaN si asseJ\n"
     ]
    }
   ],
   "source": [
    "str = 'My Name is Jessa'\n",
    "\n",
    "lst = str.split()\n",
    "reverse_var = []\n",
    "for i in lst:\n",
    "    reverse_var.append(i[::-1])\n",
    "    \n",
    "print(\" \".join(reverse_var))"
   ]
  },
  {
   "cell_type": "markdown",
   "id": "d0b6d108",
   "metadata": {},
   "source": [
    "## Exercise 2: Read text file into a variable and replace all newlines with space\n"
   ]
  },
  {
   "cell_type": "code",
   "execution_count": 10,
   "id": "e25ae8d0",
   "metadata": {},
   "outputs": [
    {
     "name": "stdout",
     "output_type": "stream",
     "text": [
      "line one  line two  line three  line foue \n"
     ]
    }
   ],
   "source": [
    "with open (\"text.txt\",\"r\") as rd:\n",
    "    read = rd.read().replace(\"\\n\",\" \")\n",
    "    print(read)"
   ]
  },
  {
   "cell_type": "markdown",
   "id": "f94e0f2c",
   "metadata": {},
   "source": [
    "Exercise 3: Remove items from a list while iterating\n",
    "Description:\n",
    "\n",
    "In this question, You need to remove items from a list while iterating but without creating a different copy of a list.\n",
    "\n",
    "Remove numbers greater than 50\n",
    "\n"
   ]
  },
  {
   "cell_type": "code",
   "execution_count": 6,
   "id": "7c90aa5f",
   "metadata": {},
   "outputs": [
    {
     "name": "stdout",
     "output_type": "stream",
     "text": [
      "[10, 20, 30, 40, 50]\n"
     ]
    }
   ],
   "source": [
    "number_list = [10, 20, 30, 40, 50, 60, 70, 80, 90, 100]\n",
    "# i = len(number_list)\n",
    "# # print(i)\n",
    "\n",
    "# while i >=0:\n",
    "#     if number_list[-i] > 50:\n",
    "#         del number_list[-i]\n",
    "    \n",
    "#     i-=1\n",
    "# print(number_list)\n",
    "i = 0\n",
    "n = len(number_list)\n",
    "while i<n:\n",
    "    if number_list[i] > 50:\n",
    "        del number_list [i]\n",
    "        n = n - 1\n",
    "        \n",
    "    else :\n",
    "         i = i + 1 \n",
    "         \n",
    "print(number_list)"
   ]
  },
  {
   "cell_type": "markdown",
   "id": "be5c7adc",
   "metadata": {},
   "source": [
    "## Exercise 4: Reverse Dictionary mapping\n"
   ]
  },
  {
   "cell_type": "code",
   "execution_count": null,
   "id": "6f3d3846",
   "metadata": {},
   "outputs": [],
   "source": []
  }
 ],
 "metadata": {
  "kernelspec": {
   "display_name": "Python 3",
   "language": "python",
   "name": "python3"
  },
  "language_info": {
   "codemirror_mode": {
    "name": "ipython",
    "version": 3
   },
   "file_extension": ".py",
   "mimetype": "text/x-python",
   "name": "python",
   "nbconvert_exporter": "python",
   "pygments_lexer": "ipython3",
   "version": "3.13.1"
  }
 },
 "nbformat": 4,
 "nbformat_minor": 5
}
