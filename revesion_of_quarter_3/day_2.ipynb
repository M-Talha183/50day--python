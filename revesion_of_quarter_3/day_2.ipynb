{
 "cells": [
  {
   "cell_type": "markdown",
   "id": "ea4b3bf8",
   "metadata": {},
   "source": [
    "## Exercise 7: Print the following number pattern\n"
   ]
  },
  {
   "cell_type": "code",
   "execution_count": null,
   "id": "ee019a8c",
   "metadata": {},
   "outputs": [
    {
     "name": "stdout",
     "output_type": "stream",
     "text": [
      " 1\n",
      " 2\n",
      " 3\n",
      " 4\n",
      " 5\n"
     ]
    }
   ],
   "source": [
    "x = 0\n",
    "rows = 5\n",
    "for i in range (rows , 0 ,-1):\n",
    "    x +=1\n",
    "    # print(x)\n",
    "    for j in range(1,i+1):\n",
    "        print(x, end=\" \")\n",
    "        print(\"\\r\")"
   ]
  },
  {
   "cell_type": "code",
   "execution_count": null,
   "id": "abb28980",
   "metadata": {},
   "outputs": [],
   "source": []
  }
 ],
 "metadata": {
  "kernelspec": {
   "display_name": "Python 3",
   "language": "python",
   "name": "python3"
  },
  "language_info": {
   "codemirror_mode": {
    "name": "ipython",
    "version": 3
   },
   "file_extension": ".py",
   "mimetype": "text/x-python",
   "name": "python",
   "nbconvert_exporter": "python",
   "pygments_lexer": "ipython3",
   "version": "3.13.1"
  }
 },
 "nbformat": 4,
 "nbformat_minor": 5
}
