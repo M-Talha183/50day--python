{
 "cells": [
  {
   "cell_type": "markdown",
   "id": "ea4b3bf8",
   "metadata": {},
   "source": [
    "## Exercise 7: Print the following number pattern\n"
   ]
  },
  {
   "cell_type": "code",
   "execution_count": null,
   "id": "ee019a8c",
   "metadata": {},
   "outputs": [
    {
     "name": "stdout",
     "output_type": "stream",
     "text": [
      " 1\n",
      " 2\n",
      " 3\n",
      " 4\n",
      " 5\n"
     ]
    }
   ],
   "source": [
    "x = 0\n",
    "rows = 5\n",
    "for i in range (rows , 0 ,-1):\n",
    "    x +=1\n",
    "    # print(x)\n",
    "    for j in range(1,i+1):\n",
    "        print(x, end=\" \")\n",
    "        print(\"\\r\")"
   ]
  },
  {
   "cell_type": "markdown",
   "id": "50f5bce6",
   "metadata": {},
   "source": [
    "## Exercise 6: Filter dictionary to contain keys present in the given list\n"
   ]
  },
  {
   "cell_type": "code",
   "execution_count": 14,
   "id": "abb28980",
   "metadata": {},
   "outputs": [
    {
     "name": "stdout",
     "output_type": "stream",
     "text": [
      "{'A': 65, 'C': 67, 'F': 70}\n"
     ]
    }
   ],
   "source": [
    "d1 = {'A': 65, 'B': 66, 'C': 67, 'D': 68, 'E': 69, 'F': 70}\n",
    "# Filter dict using following keys\n",
    "l1 = ['A', 'C', 'F']\n",
    "new_dict ={}\n",
    "for i in l1:\n",
    "    new_dict [i]=  d1[i]\n",
    "    \n",
    "print(new_dict)"
   ]
  },
  {
   "cell_type": "code",
   "execution_count": null,
   "id": "02fddf51",
   "metadata": {},
   "outputs": [],
   "source": []
  }
 ],
 "metadata": {
  "kernelspec": {
   "display_name": "Python 3",
   "language": "python",
   "name": "python3"
  },
  "language_info": {
   "codemirror_mode": {
    "name": "ipython",
    "version": 3
   },
   "file_extension": ".py",
   "mimetype": "text/x-python",
   "name": "python",
   "nbconvert_exporter": "python",
   "pygments_lexer": "ipython3",
   "version": "3.13.1"
  }
 },
 "nbformat": 4,
 "nbformat_minor": 5
}
