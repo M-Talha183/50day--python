{
 "cells": [
  {
   "cell_type": "markdown",
   "id": "ea4b3bf8",
   "metadata": {},
   "source": [
    "## Exercise 7: Print the following number pattern\n"
   ]
  },
  {
   "cell_type": "code",
   "execution_count": null,
   "id": "ee019a8c",
   "metadata": {},
   "outputs": [
    {
     "name": "stdout",
     "output_type": "stream",
     "text": [
      " 1\n",
      " 2\n",
      " 3\n",
      " 4\n",
      " 5\n"
     ]
    }
   ],
   "source": [
    "x = 0\n",
    "rows = 5\n",
    "for i in range (rows , 0 ,-1):\n",
    "    x +=1\n",
    "    # print(x)\n",
    "    for j in range(1,i+1):\n",
    "        print(x, end=\" \")\n",
    "        print(\"\\r\")"
   ]
  },
  {
   "cell_type": "markdown",
   "id": "50f5bce6",
   "metadata": {},
   "source": [
    "## Exercise 6: Filter dictionary to contain keys present in the given list\n"
   ]
  },
  {
   "cell_type": "code",
   "execution_count": 14,
   "id": "abb28980",
   "metadata": {},
   "outputs": [
    {
     "name": "stdout",
     "output_type": "stream",
     "text": [
      "{'A': 65, 'C': 67, 'F': 70}\n"
     ]
    }
   ],
   "source": [
    "d1 = {'A': 65, 'B': 66, 'C': 67, 'D': 68, 'E': 69, 'F': 70}\n",
    "# Filter dict using following keys\n",
    "l1 = ['A', 'C', 'F']\n",
    "new_dict ={}\n",
    "for i in l1:\n",
    "    new_dict [i]=  d1[i]\n",
    "    \n",
    "print(new_dict)"
   ]
  },
  {
   "cell_type": "markdown",
   "id": "32ff3e62",
   "metadata": {},
   "source": [
    "Exercise 8: Create an inner function\n",
    "Question description: -\n",
    "\n",
    "Create an outer function that will accept two strings, x and y. (x= 'Emma' and y = 'Kelly'.\n",
    "Create an inner function inside an outer function that will concatenate x and y.\n",
    "At last, an outer function will join the word 'developer' to it.\n"
   ]
  },
  {
   "cell_type": "code",
   "execution_count": 19,
   "id": "02fddf51",
   "metadata": {},
   "outputs": [
    {
     "name": "stdout",
     "output_type": "stream",
     "text": [
      "EmmaKellyDeveloper\n"
     ]
    }
   ],
   "source": [
    "def outer_fun(x=\"Emma\", y=\"Kelly\"):\n",
    "    def inner_fun():\n",
    "        return x + y + \"Developer\"\n",
    "    print(inner_fun())\n",
    "outer_fun()\n"
   ]
  },
  {
   "cell_type": "markdown",
   "id": "bb2382b1",
   "metadata": {},
   "source": [
    "## Exercise 9: Modify the element of a nested list inside the following list\n",
    "## Change the element 35 to 3500\n",
    "\n"
   ]
  },
  {
   "cell_type": "code",
   "execution_count": 27,
   "id": "beec263d",
   "metadata": {},
   "outputs": [
    {
     "name": "stdout",
     "output_type": "stream",
     "text": [
      "[5, [10, 15, [20, 25, [30, 3500], 40], 45], 50]\n"
     ]
    }
   ],
   "source": [
    "list1 = [5, [10, 15, [20, 25, [30, 35], 40], 45], 50]\n",
    "list1 [1][2][2][1] = 3500\n",
    "print(list1)"
   ]
  },
  {
   "cell_type": "markdown",
   "id": "7e0be6c8",
   "metadata": {},
   "source": [
    "## Exercise 10: Access the nested key increment from the following dictionary\n"
   ]
  },
  {
   "cell_type": "code",
   "execution_count": 31,
   "id": "15fb7634",
   "metadata": {},
   "outputs": [
    {
     "name": "stdout",
     "output_type": "stream",
     "text": [
      "12\n"
     ]
    }
   ],
   "source": [
    "emp_dict = {\n",
    "    \"company\": {\n",
    "        \"employee\": {\n",
    "            \"name\": \"Jess\",\n",
    "            \"payable\": {\n",
    "                \"salary\": 9000,\n",
    "                \"increment\": 12\n",
    "            }\n",
    "        }\n",
    "    }\n",
    "}\n",
    "\n",
    "print(emp_dict [\"company\"][\"employee\"][\"payable\"][\"increment\"])"
   ]
  },
  {
   "cell_type": "code",
   "execution_count": null,
   "id": "4d42bd6d",
   "metadata": {},
   "outputs": [],
   "source": []
  }
 ],
 "metadata": {
  "kernelspec": {
   "display_name": "Python 3",
   "language": "python",
   "name": "python3"
  },
  "language_info": {
   "codemirror_mode": {
    "name": "ipython",
    "version": 3
   },
   "file_extension": ".py",
   "mimetype": "text/x-python",
   "name": "python",
   "nbconvert_exporter": "python",
   "pygments_lexer": "ipython3",
   "version": "3.13.1"
  }
 },
 "nbformat": 4,
 "nbformat_minor": 5
}
