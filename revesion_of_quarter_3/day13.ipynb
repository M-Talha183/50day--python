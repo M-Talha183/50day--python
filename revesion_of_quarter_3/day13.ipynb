{
 "cells": [
  {
   "cell_type": "markdown",
   "id": "442f5334",
   "metadata": {},
   "source": [
    "❖ Task 1.1: Create a Car Class\n",
    "Create a class named Car with the following:\n",
    "• Attributes: brand, color\n",
    "• Method: display_info() to print brand and color\n",
    "Create two objects of Car with different values and display their info.\n",
    "python"
   ]
  },
  {
   "cell_type": "code",
   "execution_count": 2,
   "id": "14c399f7",
   "metadata": {},
   "outputs": [
    {
     "name": "stdout",
     "output_type": "stream",
     "text": [
      "Car Brand : Toyota\n",
      " Car Color :White\n",
      "Car Brand : Honda\n",
      " Car Color :Black\n"
     ]
    }
   ],
   "source": [
    "class Car :\n",
    "    def __init__(self, brand :str, color:str):\n",
    "        self.brand = brand  \n",
    "        self.color = color \n",
    "    def display(self):\n",
    "        print(f\"Car Brand : {self.brand}\\n Car Color :{self.color}\")\n",
    "        \n",
    "C1 = Car(\"Toyota\",\"White\")\n",
    "C2 = Car(\"Honda\",\"Black\")\n",
    "C1.display()\n",
    "C2.display()"
   ]
  },
  {
   "cell_type": "markdown",
   "id": "786c3f8e",
   "metadata": {},
   "source": [
    "❖ Task 1.2: Create a Student Class\n",
    "Your Own Practice:\n",
    "• Class: Student\n",
    "• Attributes: name, age, grade\n",
    "• Method: get_details() to print student inf"
   ]
  },
  {
   "cell_type": "markdown",
   "id": "0582be15",
   "metadata": {},
   "source": [
    "BONUS TIPS\n",
    "• Type every line of code yourself don't copy-paste.\n",
    "• Use # comments to explain each line in your own words.\n",
    "• Draw the structure of a class and object on paper if it helps.\n"
   ]
  }
 ],
 "metadata": {
  "kernelspec": {
   "display_name": "Python 3",
   "language": "python",
   "name": "python3"
  },
  "language_info": {
   "codemirror_mode": {
    "name": "ipython",
    "version": 3
   },
   "file_extension": ".py",
   "mimetype": "text/x-python",
   "name": "python",
   "nbconvert_exporter": "python",
   "pygments_lexer": "ipython3",
   "version": "3.13.1"
  }
 },
 "nbformat": 4,
 "nbformat_minor": 5
}
