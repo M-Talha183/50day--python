{
 "cells": [
  {
   "cell_type": "markdown",
   "id": "442f5334",
   "metadata": {},
   "source": [
    "❖ Task 1.1: Create a Car Class\n",
    "Create a class named Car with the following:\n",
    "• Attributes: brand, color\n",
    "• Method: display_info() to print brand and color\n",
    "Create two objects of Car with different values and display their info.\n",
    "python"
   ]
  }
 ],
 "metadata": {
  "language_info": {
   "name": "python"
  }
 },
 "nbformat": 4,
 "nbformat_minor": 5
}
