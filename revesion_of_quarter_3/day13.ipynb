{
 "cells": [
  {
   "cell_type": "markdown",
   "id": "442f5334",
   "metadata": {},
   "source": [
    "❖ Task 1.1: Create a Car Class\n",
    "Create a class named Car with the following:\n",
    "• Attributes: brand, color\n",
    "• Method: display_info() to print brand and color\n",
    "Create two objects of Car with different values and display their info.\n",
    "python"
   ]
  },
  {
   "cell_type": "markdown",
   "id": "786c3f8e",
   "metadata": {},
   "source": [
    "❖ Task 1.2: Create a Student Class\n",
    "Your Own Practice:\n",
    "• Class: Student\n",
    "• Attributes: name, age, grade\n",
    "• Method: get_details() to print student inf"
   ]
  }
 ],
 "metadata": {
  "language_info": {
   "name": "python"
  }
 },
 "nbformat": 4,
 "nbformat_minor": 5
}
