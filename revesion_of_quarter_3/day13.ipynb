{
 "cells": [
  {
   "cell_type": "markdown",
   "id": "442f5334",
   "metadata": {},
   "source": [
    "❖ Task 1.1: Create a Car Class\n",
    "Create a class named Car with the following:\n",
    "• Attributes: brand, color\n",
    "• Method: display_info() to print brand and color\n",
    "Create two objects of Car with different values and display their info.\n",
    "python"
   ]
  },
  {
   "cell_type": "markdown",
   "id": "786c3f8e",
   "metadata": {},
   "source": [
    "❖ Task 1.2: Create a Student Class\n",
    "Your Own Practice:\n",
    "• Class: Student\n",
    "• Attributes: name, age, grade\n",
    "• Method: get_details() to print student inf"
   ]
  },
  {
   "cell_type": "markdown",
   "id": "0582be15",
   "metadata": {},
   "source": [
    "BONUS TIPS\n",
    "• Type every line of code yourself don't copy-paste.\n",
    "• Use # comments to explain each line in your own words.\n",
    "• Draw the structure of a class and object on paper if it helps.\n"
   ]
  }
 ],
 "metadata": {
  "language_info": {
   "name": "python"
  }
 },
 "nbformat": 4,
 "nbformat_minor": 5
}
